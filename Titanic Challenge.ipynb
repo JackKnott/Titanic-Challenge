{
 "cells": [
  {
   "cell_type": "markdown",
   "metadata": {},
   "source": [
    "# Titanic Challenge\n",
    "\n",
    "\n",
    "## Intro\n",
    "\n"
   ]
  },
  {
   "cell_type": "markdown",
   "metadata": {},
   "source": [
    "First we must import all the appropriate packages."
   ]
  },
  {
   "cell_type": "code",
   "execution_count": 1,
   "metadata": {},
   "outputs": [],
   "source": [
    "# Models\n",
    "from sklearn.ensemble import RandomForestClassifier\n",
    "from sklearn.linear_model import LogisticRegression\n",
    "from sklearn.naive_bayes import GaussianNB\n",
    "from sklearn.neighbors import KNeighborsClassifier\n",
    "from sklearn.svm import SVC\n",
    "\n",
    "# Accuracy\n",
    "from sklearn.metrics import accuracy_score, classification_report, confusion_matrix, plot_roc_curve\n",
    "\n",
    "# Data processing\n",
    "from sklearn.model_selection import train_test_split, GridSearchCV\n",
    "from sklearn.preprocessing import StandardScaler\n",
    "\n",
    "# Managing data and numbers\n",
    "import pandas as pd\n",
    "import numpy as np\n",
    "\n",
    "# Graphs\n",
    "import matplotlib.pyplot as plt \n",
    "import seaborn as sns"
   ]
  },
  {
   "cell_type": "markdown",
   "metadata": {},
   "source": [
    "Next, we will insert the data into pandas dataframes. The training data will be used to train each model and the testing data will be used to test the model's accuracy."
   ]
  },
  {
   "cell_type": "code",
   "execution_count": 2,
   "metadata": {},
   "outputs": [],
   "source": [
    "# Insert training and test data\n",
    "train_df = pd.read_csv(\"train.csv\", index_col=\"PassengerId\", skipinitialspace=True)\n",
    "test_df = pd.read_csv(\"yu/testdata_with_groundTruth.csv\", index_col=\"PassengerId\", skipinitialspace=True)"
   ]
  },
  {
   "cell_type": "markdown",
   "metadata": {},
   "source": [
    "Let's check the data types of the data. We also check how many null values the training data holds."
   ]
  },
  {
   "cell_type": "code",
   "execution_count": 3,
   "metadata": {},
   "outputs": [
    {
     "name": "stdout",
     "output_type": "stream",
     "text": [
      "<class 'pandas.core.frame.DataFrame'>\n",
      "Int64Index: 891 entries, 1 to 891\n",
      "Data columns (total 11 columns):\n",
      " #   Column    Non-Null Count  Dtype  \n",
      "---  ------    --------------  -----  \n",
      " 0   Survived  891 non-null    int64  \n",
      " 1   Pclass    891 non-null    int64  \n",
      " 2   Name      891 non-null    object \n",
      " 3   Sex       891 non-null    object \n",
      " 4   Age       714 non-null    float64\n",
      " 5   SibSp     891 non-null    int64  \n",
      " 6   Parch     891 non-null    int64  \n",
      " 7   Ticket    891 non-null    object \n",
      " 8   Fare      891 non-null    float64\n",
      " 9   Cabin     204 non-null    object \n",
      " 10  Embarked  889 non-null    object \n",
      "dtypes: float64(2), int64(4), object(5)\n",
      "memory usage: 83.5+ KB\n"
     ]
    }
   ],
   "source": [
    "# Check nulls and data types\n",
    "train_df.info()"
   ]
  },
  {
   "cell_type": "markdown",
   "metadata": {},
   "source": [
    "There are 177 null values in the Age column, 687 null values in the Cabin column and 2 null values in the Embarked column. All the other columns have all 891 values and no null values. There are 5 object columns which will have to be changed to numerical data so it can be understood by the models. Floats and ints can be used normally."
   ]
  },
  {
   "cell_type": "markdown",
   "metadata": {},
   "source": [
    "## Assessing the Current Features\n",
    "### Pclass\n",
    "\n",
    "Pclass represents the ticket class. 1 being 1st class, 2 being 2nd class and 3 being 3rd class. This can represent economic status."
   ]
  },
  {
   "cell_type": "code",
   "execution_count": 4,
   "metadata": {},
   "outputs": [
    {
     "name": "stdout",
     "output_type": "stream",
     "text": [
      "           Total  Not Survived  Survived  Survived %\n",
      "1st Class  216.0          80.0     136.0    0.629630\n",
      "2nd Class  184.0          97.0      87.0    0.472826\n",
      "3rd Class  491.0         372.0     119.0    0.242363\n"
     ]
    },
    {
     "data": {
      "text/plain": [
       "<AxesSubplot:xlabel='Survived', ylabel='count'>"
      ]
     },
     "execution_count": 4,
     "metadata": {},
     "output_type": "execute_result"
    },
    {
     "data": {
      "image/png": "[encoded data removed]",
      "text/plain": [
       "<Figure size 432x288 with 1 Axes>"
      ]
     },
     "metadata": {
      "needs_background": "light"
     },
     "output_type": "display_data"
    }
   ],
   "source": [
    "pclass_data = [[], [], [], []]\n",
    "\n",
    "for i in [1, 2, 3]:\n",
    "    total = (train_df.Pclass == i).sum()\n",
    "    pclass_data[0].append(total)\n",
    "    \n",
    "    surv = train_df.query(f'Pclass == {i} and Survived == 1')['Pclass'].count()\n",
    "    pclass_data[1].append(total-surv)\n",
    "    pclass_data[2].append(surv)\n",
    "    pclass_data[3].append(1-(total-surv)/total)\n",
    "\n",
    "pclasses = pd.DataFrame(pclass_data, columns=['1st Class', '2nd Class', '3rd Class'], \n",
    "                   index=['Total', 'Not Survived', 'Survived', 'Survived %']).transpose()\n",
    "print(pclasses)\n",
    "\n",
    "sns.countplot(data=train_df, hue=\"Pclass\", x=\"Survived\")"
   ]
  },
  {
   "cell_type": "markdown",
   "metadata": {},
   "source": [
    "There are much more 3rd class passengers than any others. 491 of the 891 passengers being in 3rd class, this is 55% of all passengers. The number of passengers being in 2nd class and 1st class is quite close with 184 and 216 passengers respectively.\n",
    "\n",
    "The above data shows that the higher the class your ticket is, the more likely you are to survive. 63% of 1st class passengers survived even though 1st class passengers account for 24% of the total passengers. 47% of 2nd class passengers survived and 24% of 3rd class passengers survived."
   ]
  },
  {
   "cell_type": "markdown",
   "metadata": {},
   "source": [
    "### Name\n",
    "\n",
    "A passengers name would not have an impact on whether they survived or not. However, a passenger's title may show differently. We can extract the title from the name. Using one hot encoding is useful because the result will be binary instead of ordinal when using integer encoding. However, a lot more columns will have to be made for this dataset."
   ]
  },
  {
   "cell_type": "markdown",
   "metadata": {},
   "source": [
    "#### Creating New Feature: Title"
   ]
  },
  {
   "cell_type": "code",
   "execution_count": 7,
   "metadata": {},
   "outputs": [],
   "source": [
    "# Extract the title from the name based on the pattern of the name values.\n",
    "def get_title(name):\n",
    "    if '.' in name:\n",
    "        return name.split(',')[1].split('.')[0].strip()\n",
    "    else:\n",
    "        # No title\n",
    "        return 'Unknown'"
   ]
  },
  {
   "cell_type": "code",
   "execution_count": 8,
   "metadata": {},
   "outputs": [
    {
     "name": "stdout",
     "output_type": "stream",
     "text": [
      "              Total  Not Survived  Survived  Survived %\n",
      "Mr            517.0         436.0      81.0    0.156673\n",
      "Mrs           125.0          26.0      99.0    0.792000\n",
      "Miss          182.0          55.0     127.0    0.697802\n",
      "Master         40.0          17.0      23.0    0.575000\n",
      "Don             1.0           1.0       0.0    0.000000\n",
      "Rev             6.0           6.0       0.0    0.000000\n",
      "Dr              7.0           4.0       3.0    0.428571\n",
      "Mme             1.0           0.0       1.0    1.000000\n",
      "Ms              1.0           0.0       1.0    1.000000\n",
      "Major           2.0           1.0       1.0    0.500000\n",
      "Lady            1.0           0.0       1.0    1.000000\n",
      "Sir             1.0           0.0       1.0    1.000000\n",
      "Mlle            2.0           0.0       2.0    1.000000\n",
      "Col             2.0           1.0       1.0    0.500000\n",
      "Capt            1.0           1.0       0.0    0.000000\n",
      "the Countess    1.0           0.0       1.0    1.000000\n",
      "Jonkheer        1.0           1.0       0.0    0.000000\n"
     ]
    },
    {
     "data": {
      "text/plain": [
       "<AxesSubplot:xlabel='Survived', ylabel='count'>"
      ]
     },
     "execution_count": 8,
     "metadata": {},
     "output_type": "execute_result"
    },
    {
     "data": {
      "image/png": "[encoded data removed]",
      "text/plain": [
       "<Figure size 432x288 with 1 Axes>"
      ]
     },
     "metadata": {
      "needs_background": "light"
     },
     "output_type": "display_data"
    }
   ],
   "source": [
    "# Create a new column for title\n",
    "train_df['Title'] = train_df['Name'].map(lambda x: get_title(x))\n",
    "\n",
    "titles_data = [[], [], [], []]\n",
    "\n",
    "titles = train_df.Title.unique()\n",
    "for title in titles:\n",
    "    total = (train_df.Title == title).sum()\n",
    "    titles_data[0].append(total)\n",
    "    \n",
    "    surv = train_df.query(f'Title == \"{title}\" and Survived == 1')['Title'].count()\n",
    "    titles_data[1].append(total-surv)\n",
    "    titles_data[2].append(surv)\n",
    "    titles_data[3].append(1-(total-surv)/total)\n",
    "\n",
    "# Put the titles and their data in a dataframe.\n",
    "titles_pd = pd.DataFrame(titles_data, columns=titles, \n",
    "                   index=['Total', 'Not Survived', 'Survived', 'Survived %']).transpose()\n",
    "\n",
    "# Show the titles data\n",
    "print(titles_pd)\n",
    "\n",
    "sns.countplot(data=train_df, hue=\"Title\", x=\"Survived\")"
   ]
  },
  {
   "cell_type": "markdown",
   "metadata": {},
   "source": [
    "Titles such as Capt, Col and Jonkheer are rarities as there is only a couple of instances. This data does not tell us much, there is very unequal distribution of the title with Mr, Mrs, Miss and Master being the majority of the titles at 88% of total passengers. All the other titles did not have any values above 7.\n",
    "\n",
    "Passengers with the title Mr had a low survival rate of 16% whereas Mrs had a survival rate of 79% and Miss has a survival rate of 70%. This shows women, especially married women, would be more likely to survive than men. The title master is used for children and had a survival rate of 58%. Below is the new dataset with the one hot encoding of titles used along with the name removed."
   ]
  },
  {
   "cell_type": "code",
   "execution_count": 9,
   "metadata": {},
   "outputs": [
    {
     "data": {
      "text/html": [
       "<div>\n",
       "<style scoped>\n",
       "    .dataframe tbody tr th:only-of-type {\n",
       "        vertical-align: middle;\n",
       "    }\n",
       "\n",
       "    .dataframe tbody tr th {\n",
       "        vertical-align: top;\n",
       "    }\n",
       "\n",
       "    .dataframe thead th {\n",
       "        text-align: right;\n",
       "    }\n",
       "</style>\n",
       "<table border=\"1\" class=\"dataframe\">\n",
       "  <thead>\n",
       "    <tr style=\"text-align: right;\">\n",
       "      <th></th>\n",
       "      <th>Survived</th>\n",
       "      <th>Pclass</th>\n",
       "      <th>Sex</th>\n",
       "      <th>Age</th>\n",
       "      <th>SibSp</th>\n",
       "      <th>Parch</th>\n",
       "      <th>Ticket</th>\n",
       "      <th>Fare</th>\n",
       "      <th>Cabin</th>\n",
       "      <th>Embarked</th>\n",
       "      <th>...</th>\n",
       "      <th>Master</th>\n",
       "      <th>Miss</th>\n",
       "      <th>Mlle</th>\n",
       "      <th>Mme</th>\n",
       "      <th>Mr</th>\n",
       "      <th>Mrs</th>\n",
       "      <th>Ms</th>\n",
       "      <th>Rev</th>\n",
       "      <th>Sir</th>\n",
       "      <th>the Countess</th>\n",
       "    </tr>\n",
       "    <tr>\n",
       "      <th>PassengerId</th>\n",
       "      <th></th>\n",
       "      <th></th>\n",
       "      <th></th>\n",
       "      <th></th>\n",
       "      <th></th>\n",
       "      <th></th>\n",
       "      <th></th>\n",
       "      <th></th>\n",
       "      <th></th>\n",
       "      <th></th>\n",
       "      <th></th>\n",
       "      <th></th>\n",
       "      <th></th>\n",
       "      <th></th>\n",
       "      <th></th>\n",
       "      <th></th>\n",
       "      <th></th>\n",
       "      <th></th>\n",
       "      <th></th>\n",
       "      <th></th>\n",
       "      <th></th>\n",
       "    </tr>\n",
       "  </thead>\n",
       "  <tbody>\n",
       "    <tr>\n",
       "      <th>1</th>\n",
       "      <td>0</td>\n",
       "      <td>3</td>\n",
       "      <td>male</td>\n",
       "      <td>22.0</td>\n",
       "      <td>1</td>\n",
       "      <td>0</td>\n",
       "      <td>A/5 21171</td>\n",
       "      <td>7.2500</td>\n",
       "      <td>NaN</td>\n",
       "      <td>S</td>\n",
       "      <td>...</td>\n",
       "      <td>0</td>\n",
       "      <td>0</td>\n",
       "      <td>0</td>\n",
       "      <td>0</td>\n",
       "      <td>1</td>\n",
       "      <td>0</td>\n",
       "      <td>0</td>\n",
       "      <td>0</td>\n",
       "      <td>0</td>\n",
       "      <td>0</td>\n",
       "    </tr>\n",
       "    <tr>\n",
       "      <th>2</th>\n",
       "      <td>1</td>\n",
       "      <td>1</td>\n",
       "      <td>female</td>\n",
       "      <td>38.0</td>\n",
       "      <td>1</td>\n",
       "      <td>0</td>\n",
       "      <td>PC 17599</td>\n",
       "      <td>71.2833</td>\n",
       "      <td>C85</td>\n",
       "      <td>C</td>\n",
       "      <td>...</td>\n",
       "      <td>0</td>\n",
       "      <td>0</td>\n",
       "      <td>0</td>\n",
       "      <td>0</td>\n",
       "      <td>0</td>\n",
       "      <td>1</td>\n",
       "      <td>0</td>\n",
       "      <td>0</td>\n",
       "      <td>0</td>\n",
       "      <td>0</td>\n",
       "    </tr>\n",
       "    <tr>\n",
       "      <th>3</th>\n",
       "      <td>1</td>\n",
       "      <td>3</td>\n",
       "      <td>female</td>\n",
       "      <td>26.0</td>\n",
       "      <td>0</td>\n",
       "      <td>0</td>\n",
       "      <td>STON/O2. 3101282</td>\n",
       "      <td>7.9250</td>\n",
       "      <td>NaN</td>\n",
       "      <td>S</td>\n",
       "      <td>...</td>\n",
       "      <td>0</td>\n",
       "      <td>1</td>\n",
       "      <td>0</td>\n",
       "      <td>0</td>\n",
       "      <td>0</td>\n",
       "      <td>0</td>\n",
       "      <td>0</td>\n",
       "      <td>0</td>\n",
       "      <td>0</td>\n",
       "      <td>0</td>\n",
       "    </tr>\n",
       "    <tr>\n",
       "      <th>4</th>\n",
       "      <td>1</td>\n",
       "      <td>1</td>\n",
       "      <td>female</td>\n",
       "      <td>35.0</td>\n",
       "      <td>1</td>\n",
       "      <td>0</td>\n",
       "      <td>113803</td>\n",
       "      <td>53.1000</td>\n",
       "      <td>C123</td>\n",
       "      <td>S</td>\n",
       "      <td>...</td>\n",
       "      <td>0</td>\n",
       "      <td>0</td>\n",
       "      <td>0</td>\n",
       "      <td>0</td>\n",
       "      <td>0</td>\n",
       "      <td>1</td>\n",
       "      <td>0</td>\n",
       "      <td>0</td>\n",
       "      <td>0</td>\n",
       "      <td>0</td>\n",
       "    </tr>\n",
       "    <tr>\n",
       "      <th>5</th>\n",
       "      <td>0</td>\n",
       "      <td>3</td>\n",
       "      <td>male</td>\n",
       "      <td>35.0</td>\n",
       "      <td>0</td>\n",
       "      <td>0</td>\n",
       "      <td>373450</td>\n",
       "      <td>8.0500</td>\n",
       "      <td>NaN</td>\n",
       "      <td>S</td>\n",
       "      <td>...</td>\n",
       "      <td>0</td>\n",
       "      <td>0</td>\n",
       "      <td>0</td>\n",
       "      <td>0</td>\n",
       "      <td>1</td>\n",
       "      <td>0</td>\n",
       "      <td>0</td>\n",
       "      <td>0</td>\n",
       "      <td>0</td>\n",
       "      <td>0</td>\n",
       "    </tr>\n",
       "    <tr>\n",
       "      <th>...</th>\n",
       "      <td>...</td>\n",
       "      <td>...</td>\n",
       "      <td>...</td>\n",
       "      <td>...</td>\n",
       "      <td>...</td>\n",
       "      <td>...</td>\n",
       "      <td>...</td>\n",
       "      <td>...</td>\n",
       "      <td>...</td>\n",
       "      <td>...</td>\n",
       "      <td>...</td>\n",
       "      <td>...</td>\n",
       "      <td>...</td>\n",
       "      <td>...</td>\n",
       "      <td>...</td>\n",
       "      <td>...</td>\n",
       "      <td>...</td>\n",
       "      <td>...</td>\n",
       "      <td>...</td>\n",
       "      <td>...</td>\n",
       "      <td>...</td>\n",
       "    </tr>\n",
       "    <tr>\n",
       "      <th>887</th>\n",
       "      <td>0</td>\n",
       "      <td>2</td>\n",
       "      <td>male</td>\n",
       "      <td>27.0</td>\n",
       "      <td>0</td>\n",
       "      <td>0</td>\n",
       "      <td>211536</td>\n",
       "      <td>13.0000</td>\n",
       "      <td>NaN</td>\n",
       "      <td>S</td>\n",
       "      <td>...</td>\n",
       "      <td>0</td>\n",
       "      <td>0</td>\n",
       "      <td>0</td>\n",
       "      <td>0</td>\n",
       "      <td>0</td>\n",
       "      <td>0</td>\n",
       "      <td>0</td>\n",
       "      <td>1</td>\n",
       "      <td>0</td>\n",
       "      <td>0</td>\n",
       "    </tr>\n",
       "    <tr>\n",
       "      <th>888</th>\n",
       "      <td>1</td>\n",
       "      <td>1</td>\n",
       "      <td>female</td>\n",
       "      <td>19.0</td>\n",
       "      <td>0</td>\n",
       "      <td>0</td>\n",
       "      <td>112053</td>\n",
       "      <td>30.0000</td>\n",
       "      <td>B42</td>\n",
       "      <td>S</td>\n",
       "      <td>...</td>\n",
       "      <td>0</td>\n",
       "      <td>1</td>\n",
       "      <td>0</td>\n",
       "      <td>0</td>\n",
       "      <td>0</td>\n",
       "      <td>0</td>\n",
       "      <td>0</td>\n",
       "      <td>0</td>\n",
       "      <td>0</td>\n",
       "      <td>0</td>\n",
       "    </tr>\n",
       "    <tr>\n",
       "      <th>889</th>\n",
       "      <td>0</td>\n",
       "      <td>3</td>\n",
       "      <td>female</td>\n",
       "      <td>NaN</td>\n",
       "      <td>1</td>\n",
       "      <td>2</td>\n",
       "      <td>W./C. 6607</td>\n",
       "      <td>23.4500</td>\n",
       "      <td>NaN</td>\n",
       "      <td>S</td>\n",
       "      <td>...</td>\n",
       "      <td>0</td>\n",
       "      <td>1</td>\n",
       "      <td>0</td>\n",
       "      <td>0</td>\n",
       "      <td>0</td>\n",
       "      <td>0</td>\n",
       "      <td>0</td>\n",
       "      <td>0</td>\n",
       "      <td>0</td>\n",
       "      <td>0</td>\n",
       "    </tr>\n",
       "    <tr>\n",
       "      <th>890</th>\n",
       "      <td>1</td>\n",
       "      <td>1</td>\n",
       "      <td>male</td>\n",
       "      <td>26.0</td>\n",
       "      <td>0</td>\n",
       "      <td>0</td>\n",
       "      <td>111369</td>\n",
       "      <td>30.0000</td>\n",
       "      <td>C148</td>\n",
       "      <td>C</td>\n",
       "      <td>...</td>\n",
       "      <td>0</td>\n",
       "      <td>0</td>\n",
       "      <td>0</td>\n",
       "      <td>0</td>\n",
       "      <td>1</td>\n",
       "      <td>0</td>\n",
       "      <td>0</td>\n",
       "      <td>0</td>\n",
       "      <td>0</td>\n",
       "      <td>0</td>\n",
       "    </tr>\n",
       "    <tr>\n",
       "      <th>891</th>\n",
       "      <td>0</td>\n",
       "      <td>3</td>\n",
       "      <td>male</td>\n",
       "      <td>32.0</td>\n",
       "      <td>0</td>\n",
       "      <td>0</td>\n",
       "      <td>370376</td>\n",
       "      <td>7.7500</td>\n",
       "      <td>NaN</td>\n",
       "      <td>Q</td>\n",
       "      <td>...</td>\n",
       "      <td>0</td>\n",
       "      <td>0</td>\n",
       "      <td>0</td>\n",
       "      <td>0</td>\n",
       "      <td>1</td>\n",
       "      <td>0</td>\n",
       "      <td>0</td>\n",
       "      <td>0</td>\n",
       "      <td>0</td>\n",
       "      <td>0</td>\n",
       "    </tr>\n",
       "  </tbody>\n",
       "</table>\n",
       "<p>891 rows × 27 columns</p>\n",
       "</div>"
      ],
      "text/plain": [
       "             Survived  Pclass     Sex   Age  SibSp  Parch            Ticket  \\\n",
       "PassengerId                                                                   \n",
       "1                   0       3    male  22.0      1      0         A/5 21171   \n",
       "2                   1       1  female  38.0      1      0          PC 17599   \n",
       "3                   1       3  female  26.0      0      0  STON/O2. 3101282   \n",
       "4                   1       1  female  35.0      1      0            113803   \n",
       "5                   0       3    male  35.0      0      0            373450   \n",
       "...               ...     ...     ...   ...    ...    ...               ...   \n",
       "887                 0       2    male  27.0      0      0            211536   \n",
       "888                 1       1  female  19.0      0      0            112053   \n",
       "889                 0       3  female   NaN      1      2        W./C. 6607   \n",
       "890                 1       1    male  26.0      0      0            111369   \n",
       "891                 0       3    male  32.0      0      0            370376   \n",
       "\n",
       "                Fare Cabin Embarked  ...  Master  Miss  Mlle  Mme  Mr  Mrs  \\\n",
       "PassengerId                          ...                                     \n",
       "1             7.2500   NaN        S  ...       0     0     0    0   1    0   \n",
       "2            71.2833   C85        C  ...       0     0     0    0   0    1   \n",
       "3             7.9250   NaN        S  ...       0     1     0    0   0    0   \n",
       "4            53.1000  C123        S  ...       0     0     0    0   0    1   \n",
       "5             8.0500   NaN        S  ...       0     0     0    0   1    0   \n",
       "...              ...   ...      ...  ...     ...   ...   ...  ...  ..  ...   \n",
       "887          13.0000   NaN        S  ...       0     0     0    0   0    0   \n",
       "888          30.0000   B42        S  ...       0     1     0    0   0    0   \n",
       "889          23.4500   NaN        S  ...       0     1     0    0   0    0   \n",
       "890          30.0000  C148        C  ...       0     0     0    0   1    0   \n",
       "891           7.7500   NaN        Q  ...       0     0     0    0   1    0   \n",
       "\n",
       "             Ms  Rev  Sir  the Countess  \n",
       "PassengerId                              \n",
       "1             0    0    0             0  \n",
       "2             0    0    0             0  \n",
       "3             0    0    0             0  \n",
       "4             0    0    0             0  \n",
       "5             0    0    0             0  \n",
       "...          ..  ...  ...           ...  \n",
       "887           0    1    0             0  \n",
       "888           0    0    0             0  \n",
       "889           0    0    0             0  \n",
       "890           0    0    0             0  \n",
       "891           0    0    0             0  \n",
       "\n",
       "[891 rows x 27 columns]"
      ]
     },
     "execution_count": 9,
     "metadata": {},
     "output_type": "execute_result"
    }
   ],
   "source": [
    "# Create one hot encoding values and columns\n",
    "titles = pd.get_dummies(train_df.Title)\n",
    "\n",
    "#Join the one hot encoding title columns to current training dataframe\n",
    "train_df = train_df.join(titles)\n",
    "\n",
    "# Drop Name column\n",
    "train_df = train_df.drop(\"Name\", axis=1)\n",
    "\n",
    "# Drop Title column\n",
    "train_df = train_df.drop(\"Title\", axis=1)\n",
    "\n",
    "# Show new training dataframe\n",
    "train_df"
   ]
  },
  {
   "cell_type": "markdown",
   "metadata": {},
   "source": [
    "### Sex"
   ]
  },
  {
   "cell_type": "markdown",
   "metadata": {},
   "source": [
    "The Sex column has values of male and female. One hot encoding is not needed for the Sex column as there is only two possible values. The values can just be mapped to 1 or 0 like any individual one hot encoding column."
   ]
  },
  {
   "cell_type": "code",
   "execution_count": 10,
   "metadata": {},
   "outputs": [
    {
     "data": {
      "image/png": "[encoded data removed]",
      "text/plain": [
       "<Figure size 432x288 with 1 Axes>"
      ]
     },
     "metadata": {
      "needs_background": "light"
     },
     "output_type": "display_data"
    }
   ],
   "source": [
    "sns.countplot(data=train_df, hue=\"Sex\", x=\"Survived\")\n",
    "\n",
    "# Map Sex values to numerical values\n",
    "train_df = train_df.replace({'Sex': {'male': 1, 'female': 0}})"
   ]
  },
  {
   "cell_type": "code",
   "execution_count": 11,
   "metadata": {},
   "outputs": [
    {
     "name": "stdout",
     "output_type": "stream",
     "text": [
      "        Total  Not Survived  Survived  Survived %\n",
      "Female  314.0          81.0     233.0    0.742038\n",
      "Male    577.0         468.0     109.0    0.188908\n"
     ]
    }
   ],
   "source": [
    "sex_data = [[], [], [], []]\n",
    "\n",
    "for i in [0, 1]:\n",
    "    total = (train_df.Sex == i).sum()\n",
    "    sex_data[0].append(total)\n",
    "    \n",
    "    surv = train_df.query(f'Sex == {i} and Survived == 1')['Sex'].count()\n",
    "    sex_data[1].append(total-surv)\n",
    "    sex_data[2].append(surv)\n",
    "    sex_data[3].append(1-(total-surv)/total)\n",
    "    \n",
    "sex_pd = pd.DataFrame(sex_data, columns=['Female', 'Male'], \n",
    "                   index=['Total', 'Not Survived', 'Survived', 'Survived %']).transpose()\n",
    "print(sex_pd)"
   ]
  },
  {
   "cell_type": "markdown",
   "metadata": {},
   "source": [
    "There were 577 males aboard accounting for 65% of the passengers whereas there were 314 females. However, 19% of males survived whereas 74% of females survived. This could be due to women and children being given priority to lifeboats. This also follows on from data from title where people with the title of Mr are much more likely to not have survived."
   ]
  },
  {
   "cell_type": "markdown",
   "metadata": {},
   "source": [
    "### Age\n",
    "\n",
    "If age is a fractional then age is less than 1. If the age is estimated, is it in the form of xx.5 Estimation means that the data may not be as concrete as originally thought."
   ]
  },
  {
   "cell_type": "code",
   "execution_count": 12,
   "metadata": {},
   "outputs": [
    {
     "name": "stdout",
     "output_type": "stream",
     "text": [
      "<class 'pandas.core.frame.DataFrame'>\n",
      "Int64Index: 891 entries, 1 to 891\n",
      "Data columns (total 27 columns):\n",
      " #   Column        Non-Null Count  Dtype  \n",
      "---  ------        --------------  -----  \n",
      " 0   Survived      891 non-null    int64  \n",
      " 1   Pclass        891 non-null    int64  \n",
      " 2   Sex           891 non-null    int64  \n",
      " 3   Age           714 non-null    float64\n",
      " 4   SibSp         891 non-null    int64  \n",
      " 5   Parch         891 non-null    int64  \n",
      " 6   Ticket        891 non-null    object \n",
      " 7   Fare          891 non-null    float64\n",
      " 8   Cabin         204 non-null    object \n",
      " 9   Embarked      889 non-null    object \n",
      " 10  Capt          891 non-null    uint8  \n",
      " 11  Col           891 non-null    uint8  \n",
      " 12  Don           891 non-null    uint8  \n",
      " 13  Dr            891 non-null    uint8  \n",
      " 14  Jonkheer      891 non-null    uint8  \n",
      " 15  Lady          891 non-null    uint8  \n",
      " 16  Major         891 non-null    uint8  \n",
      " 17  Master        891 non-null    uint8  \n",
      " 18  Miss          891 non-null    uint8  \n",
      " 19  Mlle          891 non-null    uint8  \n",
      " 20  Mme           891 non-null    uint8  \n",
      " 21  Mr            891 non-null    uint8  \n",
      " 22  Mrs           891 non-null    uint8  \n",
      " 23  Ms            891 non-null    uint8  \n",
      " 24  Rev           891 non-null    uint8  \n",
      " 25  Sir           891 non-null    uint8  \n",
      " 26  the Countess  891 non-null    uint8  \n",
      "dtypes: float64(2), int64(5), object(3), uint8(17)\n",
      "memory usage: 131.4+ KB\n"
     ]
    }
   ],
   "source": [
    "train_df.info()"
   ]
  },
  {
   "cell_type": "markdown",
   "metadata": {},
   "source": [
    "As shown, there are 714 Age values of the total of 891 rows. This means Age has 177 null values. 177 values of the total 891 is 19.87%. With a column like age, the mean age could be calculated. This is estimating and could affect the data in a bad way, but so could removing almost 20% of the dataset if the rows with null Ages are removed. \n",
    "\n",
    "I will fill the null Age values with the mean age across the dataframe.\n",
    "\n",
    "Models could be created to estimate the age of a single person more effectively. For example, title and other columns could be taken into account when estimating the age. If the title is Master then the age must be low."
   ]
  },
  {
   "cell_type": "code",
   "execution_count": 13,
   "metadata": {},
   "outputs": [],
   "source": [
    "# Fill the null age values with the mean age\n",
    "train_df['Age'] = train_df['Age'].fillna(train_df['Age'].mean())"
   ]
  },
  {
   "cell_type": "code",
   "execution_count": 14,
   "metadata": {},
   "outputs": [
    {
     "data": {
      "text/plain": [
       "<AxesSubplot:xlabel='Age', ylabel='count'>"
      ]
     },
     "execution_count": 14,
     "metadata": {},
     "output_type": "execute_result"
    },
    {
     "data": {
      "image/png": "[encoded data removed]",
      "text/plain": [
       "<Figure size 432x288 with 1 Axes>"
      ]
     },
     "metadata": {
      "needs_background": "light"
     },
     "output_type": "display_data"
    }
   ],
   "source": [
    "sns.countplot(data=train_df, x=\"Age\")"
   ]
  },
  {
   "cell_type": "markdown",
   "metadata": {},
   "source": [
    "From the simple graph we can make displaying every age value and its count, it can be a bit complicated and not show us that much. We can see that the majority of people were middle aged.\n",
    "\n",
    "To improve this, we can use age groups. This may remove some precision but will let us evaluate more efficiently."
   ]
  },
  {
   "cell_type": "code",
   "execution_count": 15,
   "metadata": {},
   "outputs": [
    {
     "name": "stdout",
     "output_type": "stream",
     "text": [
      "Max age: 80.0\n",
      "       Total  Not Survived  Survived  Survived %\n",
      "0-10    64.0          26.0      38.0    0.593750\n",
      "10-20  115.0          71.0      44.0    0.382609\n",
      "20-30  407.0         271.0     136.0    0.334152\n",
      "30-40  155.0          86.0      69.0    0.445161\n",
      "40-50   86.0          53.0      33.0    0.383721\n",
      "50-60   42.0          25.0      17.0    0.404762\n",
      "60-70   17.0          13.0       4.0    0.235294\n",
      "70-80    5.0           4.0       1.0    0.200000\n"
     ]
    }
   ],
   "source": [
    "max_age = train_df.Age.max()\n",
    "print(f'Max age: {max_age}')\n",
    "\n",
    "# Oldest person is 80\n",
    "# Split ages into groups\n",
    "ages = [[0, 10], [10, 20], [20, 30], [30, 40], [40, 50], [50, 60], [60, 70], [70, 80]]\n",
    "\n",
    "age_data = [[], [], [], []]\n",
    "\n",
    "for i in ages:\n",
    "    total = train_df.query(f'Age > {i[0]} and Age <= {i[1]}')['Age'].count()\n",
    "    age_data[0].append(total)\n",
    "    \n",
    "    surv = train_df.query(f'Age > {i[0]} and Age <= {i[1]} and Survived == 1')['Age'].count()\n",
    "    age_data[1].append(total-surv)\n",
    "    age_data[2].append(surv)\n",
    "    age_data[3].append(1-(total-surv)/total)\n",
    "\n",
    "\n",
    "# Change age data to a pandas dataframe.\n",
    "age_pd = pd.DataFrame(age_data, columns=[f'{a[0]}-{a[1]}' for a in ages], \n",
    "                   index=['Total', 'Not Survived', 'Survived', 'Survived %']).transpose()\n",
    "# Printe age data\n",
    "print(age_pd)"
   ]
  },
  {
   "cell_type": "markdown",
   "metadata": {},
   "source": [
    "The max age is 80 so this is the end of the final age group we use. The majority of the passengers are between 10 and 40 years old, accounting for 56% of total passengers.\n",
    "\n",
    "The two oldest groups had the worst survival rates of 24% for 60-70 year olds and 20% for 70-80 year olds. This could be because of the cold and extreme conditions.\n",
    "\n",
    "Passengers aged between 0 and 10 had the best survival rates of 59%. Following this was 30 to 40 with 45% and 50 to 60 with 40%. The only visible pattern is that passengers above 60 had a much lower survival rate even though women, children and elderly people would have been given lifeboats first."
   ]
  },
  {
   "cell_type": "code",
   "execution_count": 16,
   "metadata": {},
   "outputs": [
    {
     "data": {
      "text/plain": [
       "<AxesSubplot:xlabel='Ages', ylabel='Quantity'>"
      ]
     },
     "execution_count": 16,
     "metadata": {},
     "output_type": "execute_result"
    },
    {
     "data": {
      "image/png": "[encoded data removed]",
      "text/plain": [
       "<Figure size 432x288 with 1 Axes>"
      ]
     },
     "metadata": {
      "needs_background": "light"
     },
     "output_type": "display_data"
    }
   ],
   "source": [
    "age_ranges = {'Ages':  [f'{a[0]}-{a[1]}' for a in ages],\n",
    "            'Quantity': age_data[0]}\n",
    "\n",
    "age_ranges_df = pd.DataFrame (age_ranges, columns = ['Ages','Quantity'])\n",
    "\n",
    "sns.barplot(data=age_ranges_df, x='Ages', y='Quantity')"
   ]
  },
  {
   "cell_type": "markdown",
   "metadata": {},
   "source": [
    "This graph allows us to see the better the majority of ages and that there were not many passengers aged above 50."
   ]
  },
  {
   "cell_type": "code",
   "execution_count": 17,
   "metadata": {},
   "outputs": [
    {
     "data": {
      "text/plain": [
       "<AxesSubplot:xlabel='Age', ylabel='Count'>"
      ]
     },
     "execution_count": 17,
     "metadata": {},
     "output_type": "execute_result"
    },
    {
     "data": {
      "image/png": "[encoded data removed]",
      "text/plain": [
       "<Figure size 432x288 with 1 Axes>"
      ]
     },
     "metadata": {
      "needs_background": "light"
     },
     "output_type": "display_data"
    }
   ],
   "source": [
    "sns.histplot(data = train_df, x=\"Age\", hue = \"Survived\", multiple = \"stack\", element = \"step\", kde = True, bins = 16)"
   ]
  },
  {
   "cell_type": "markdown",
   "metadata": {},
   "source": [
    "This graph can give us better insight into the age ranges and the survival rate of each age range. As shown, there are a lot of passengers that did not survive between 15 and 40 years old even though these age ranges hold the majority of passengers."
   ]
  },
  {
   "cell_type": "markdown",
   "metadata": {},
   "source": [
    "### SibSp\n",
    "\n",
    "SibSp represents the number of siblings and spouses a passenger has on board the titanic. Mistresses and fiancés have been ignored meaning that the SibSp number could actually be higher than what is recorded, like for passengers who only travelled with a mistress."
   ]
  },
  {
   "cell_type": "code",
   "execution_count": 18,
   "metadata": {},
   "outputs": [
    {
     "name": "stdout",
     "output_type": "stream",
     "text": [
      "   Total  Not Survived  Survived  Survived %\n",
      "0  608.0         398.0     210.0    0.345395\n",
      "1  209.0          97.0     112.0    0.535885\n",
      "2   28.0          15.0      13.0    0.464286\n",
      "3   16.0          12.0       4.0    0.250000\n",
      "4   18.0          15.0       3.0    0.166667\n",
      "5    5.0           5.0       0.0    0.000000\n",
      "8    7.0           7.0       0.0    0.000000\n"
     ]
    },
    {
     "data": {
      "text/plain": [
       "<AxesSubplot:xlabel='Survived', ylabel='count'>"
      ]
     },
     "execution_count": 18,
     "metadata": {},
     "output_type": "execute_result"
    },
    {
     "data": {
      "image/png": "[encoded data removed]",
      "text/plain": [
       "<Figure size 432x288 with 1 Axes>"
      ]
     },
     "metadata": {
      "needs_background": "light"
     },
     "output_type": "display_data"
    }
   ],
   "source": [
    "# Get unique values\n",
    "sibsps = test_df.SibSp.unique()\n",
    "# Sort unique values\n",
    "sibsps = np.sort(sibsps)\n",
    "\n",
    "sibsp_data = [[], [], [], []]\n",
    "\n",
    "for i in sibsps:\n",
    "    total = train_df.query(f'SibSp == {i}')['SibSp'].count()\n",
    "    sibsp_data[0].append(total)\n",
    "    \n",
    "    surv = train_df.query(f'SibSp == {i} and Survived == 1')['SibSp'].count()\n",
    "    sibsp_data[1].append(total-surv)\n",
    "    sibsp_data[2].append(surv)\n",
    "    sibsp_data[3].append(1-(total-surv)/total)\n",
    "\n",
    "# Convert SibSp data to dataframe\n",
    "sibsp_data = pd.DataFrame(sibsp_data, columns=sibsps, \n",
    "                   index=['Total', 'Not Survived', 'Survived', 'Survived %']).transpose()\n",
    "# Print dataframe\n",
    "print(sibsp_data)\n",
    "    \n",
    "sns.countplot(data=train_df, hue=\"SibSp\", x=\"Survived\")"
   ]
  },
  {
   "cell_type": "markdown",
   "metadata": {},
   "source": [
    "The SibSp value is not very equally distributed across the passengers. The most common value of SibSp is 0 with 608 passengers accounting for 68% of total passengers. This is followed by the SibSp value of 1 with 209 passengers accounting for 23% of passengers. This means that all passengers with 2 or more SibSp accounts for 9% of the training data.\n",
    "\n",
    "A passenger with more than 1 sibling and spouse on the Titanic is rare and all passengers with 5 or more siblings and spouse on board do not survive. The greatest survival rate is a SibSp value of 1 with 54% followed by 2 with 46%."
   ]
  },
  {
   "cell_type": "code",
   "execution_count": 19,
   "metadata": {},
   "outputs": [
    {
     "data": {
      "text/plain": [
       "<AxesSubplot:xlabel='SibSp', ylabel='Count'>"
      ]
     },
     "execution_count": 19,
     "metadata": {},
     "output_type": "execute_result"
    },
    {
     "data": {
      "image/png": "[encoded data removed]",
      "text/plain": [
       "<Figure size 432x288 with 1 Axes>"
      ]
     },
     "metadata": {
      "needs_background": "light"
     },
     "output_type": "display_data"
    }
   ],
   "source": [
    "sns.histplot(data = train_df, x=\"SibSp\", hue = \"Survived\", multiple = \"stack\", element = \"step\", kde = True, bins = 16)"
   ]
  },
  {
   "cell_type": "markdown",
   "metadata": {},
   "source": [
    "This graph helps to show how unequally distributed the SibSp values are and even though 0 was the most common value, it  did not have the greatest survival rate."
   ]
  },
  {
   "cell_type": "markdown",
   "metadata": {},
   "source": [
    "### Parch\n",
    "\n",
    "Parch is the number of parents and children a passenger has on board the Titanic. If children had travelled with a nanny, their parch value is 0."
   ]
  },
  {
   "cell_type": "code",
   "execution_count": 20,
   "metadata": {},
   "outputs": [
    {
     "name": "stdout",
     "output_type": "stream",
     "text": [
      "   Total  Not Survived  Survived  Survived %\n",
      "0  678.0         445.0     233.0    0.343658\n",
      "1  118.0          53.0      65.0    0.550847\n",
      "2   80.0          40.0      40.0    0.500000\n",
      "3    5.0           2.0       3.0    0.600000\n",
      "4    4.0           4.0       0.0    0.000000\n",
      "5    5.0           4.0       1.0    0.200000\n",
      "6    1.0           1.0       0.0    0.000000\n",
      "9    0.0           0.0       0.0         NaN\n"
     ]
    },
    {
     "name": "stderr",
     "output_type": "stream",
     "text": [
      "C:\\Users\\jknot\\Anaconda3\\envs\\ML\\lib\\site-packages\\ipykernel_launcher.py:15: RuntimeWarning: invalid value encountered in long_scalars\n",
      "  from ipykernel import kernelapp as app\n"
     ]
    },
    {
     "data": {
      "text/plain": [
       "<AxesSubplot:xlabel='Survived', ylabel='count'>"
      ]
     },
     "execution_count": 20,
     "metadata": {},
     "output_type": "execute_result"
    },
    {
     "data": {
      "image/png": "[encoded data removed]",
      "text/plain": [
       "<Figure size 432x288 with 1 Axes>"
      ]
     },
     "metadata": {
      "needs_background": "light"
     },
     "output_type": "display_data"
    }
   ],
   "source": [
    "# Get unique values\n",
    "parchs = test_df.Parch.unique()\n",
    "# Sort unique values\n",
    "parchs = np.sort(parchs)\n",
    "\n",
    "parch_data = [[], [], [], []]\n",
    "\n",
    "for i in parchs:\n",
    "    total = train_df.query(f'Parch == {i}')['Parch'].count()\n",
    "    parch_data[0].append(total)\n",
    "    \n",
    "    surv = train_df.query(f'Parch == {i} and Survived == 1')['Parch'].count()\n",
    "    parch_data[1].append(total-surv)\n",
    "    parch_data[2].append(surv)\n",
    "    parch_data[3].append(1-(total-surv)/total)\n",
    "    \n",
    "# Convert parch data to a dataframe\n",
    "parch_data = pd.DataFrame(parch_data, columns=parchs, \n",
    "                   index=['Total', 'Not Survived', 'Survived', 'Survived %']).transpose()\n",
    "# Print data frame\n",
    "print(parch_data)\n",
    "\n",
    "sns.countplot(data=train_df, hue=\"Parch\", x=\"Survived\")"
   ]
  },
  {
   "cell_type": "markdown",
   "metadata": {},
   "source": [
    "Like SibSp, Parch is not very varied. The number of passengers with more than 2 parents and children is very small at just 10 passengers out of the 891 making that only 1% of passengers. The Parch value with the greatest survival rate is 3 with a 60% surival rate. However, the Parch value of 3 has only 5 passengers being 0.5% of the total passengers in the training dataset.\n",
    "\n",
    "Out of the Parch values below 3, which have 80 passengers or more, the greatest survival rate is a Parch value of 1 with 55% survival rate. Following this, a Parch value of 2 has a survival rate of 50%. The Parch value of 0 has the greatest amount of passengers but a low survival rate of 34%."
   ]
  },
  {
   "cell_type": "code",
   "execution_count": 21,
   "metadata": {},
   "outputs": [
    {
     "data": {
      "text/plain": [
       "<AxesSubplot:xlabel='Parch', ylabel='Count'>"
      ]
     },
     "execution_count": 21,
     "metadata": {},
     "output_type": "execute_result"
    },
    {
     "data": {
      "image/png": "[encoded data removed]",
      "text/plain": [
       "<Figure size 432x288 with 1 Axes>"
      ]
     },
     "metadata": {
      "needs_background": "light"
     },
     "output_type": "display_data"
    }
   ],
   "source": [
    "sns.histplot(data = train_df, x=\"Parch\", hue = \"Survived\", multiple = \"stack\", element = \"step\", kde = True, bins = 6)"
   ]
  },
  {
   "cell_type": "markdown",
   "metadata": {},
   "source": [
    "Just like SibSp, the Parch of 0 is the most common but has quite a poor survival rate compared to the other values."
   ]
  },
  {
   "cell_type": "markdown",
   "metadata": {},
   "source": [
    "#### Creating New Feature: Family"
   ]
  },
  {
   "cell_type": "markdown",
   "metadata": {},
   "source": [
    "The new Family feature will hold the number of people who are in the group of that passenger. This will be calculated by adding the number of siblings, spouses, parents and children"
   ]
  },
  {
   "cell_type": "code",
   "execution_count": 22,
   "metadata": {},
   "outputs": [
    {
     "name": "stdout",
     "output_type": "stream",
     "text": [
      "    Total  Not Survived  Survived  Survived %\n",
      "0   537.0         374.0     163.0    0.303538\n",
      "1   161.0          72.0      89.0    0.552795\n",
      "2   102.0          43.0      59.0    0.578431\n",
      "3    29.0           8.0      21.0    0.724138\n",
      "4    15.0          12.0       3.0    0.200000\n",
      "5    22.0          19.0       3.0    0.136364\n",
      "6    12.0           8.0       4.0    0.333333\n",
      "7     6.0           6.0       0.0    0.000000\n",
      "10    7.0           7.0       0.0    0.000000\n"
     ]
    },
    {
     "data": {
      "text/plain": [
       "<AxesSubplot:xlabel='Survived', ylabel='count'>"
      ]
     },
     "execution_count": 22,
     "metadata": {},
     "output_type": "execute_result"
    },
    {
     "data": {
      "image/png": "[encoded data removed]",
      "text/plain": [
       "<Figure size 432x288 with 1 Axes>"
      ]
     },
     "metadata": {
      "needs_background": "light"
     },
     "output_type": "display_data"
    }
   ],
   "source": [
    "# Make new column\n",
    "train_df['Family'] = train_df['SibSp'] + train_df['Parch']\n",
    "# Get unique values\n",
    "family = train_df['Family'].unique()\n",
    "# Sort unique values\n",
    "family = np.sort(family)\n",
    "\n",
    "family_data = [[], [], [], []]\n",
    "\n",
    "for i in family:\n",
    "    total = train_df.query(f'Family == {i}')['Family'].count()\n",
    "    family_data[0].append(total)\n",
    "    \n",
    "    surv = train_df.query(f'Family == {i} and Survived == 1')['Family'].count()\n",
    "    family_data[1].append(total-surv)\n",
    "    family_data[2].append(surv)\n",
    "    family_data[3].append(1-(total-surv)/total)\n",
    "    \n",
    "# Put family data into dataframe\n",
    "family_data = pd.DataFrame(family_data, columns=family, \n",
    "                   index=['Total', 'Not Survived', 'Survived', 'Survived %']).transpose()\n",
    "# Print family dataframe\n",
    "print(family_data)\n",
    "    \n",
    "sns.countplot(data=train_df, hue=\"Family\", x=\"Survived\")"
   ]
  },
  {
   "cell_type": "markdown",
   "metadata": {},
   "source": [
    "If we combine the SibSp and Parch values to make a new value of Family for each passenger, representing the total number of family members they were with on the Titanic, this shows very small number of occurances of values above 2. \n",
    "\n",
    "We can see the majority of passengers had 0 family members and out of the values which had more than 100 occurances, this had the lowest survival rate of 30%. Passengers with 1 family member and 2 family members had similar survival rates being 55% and 58% respectively."
   ]
  },
  {
   "cell_type": "code",
   "execution_count": 23,
   "metadata": {},
   "outputs": [
    {
     "data": {
      "text/plain": [
       "<AxesSubplot:xlabel='Family', ylabel='Count'>"
      ]
     },
     "execution_count": 23,
     "metadata": {},
     "output_type": "execute_result"
    },
    {
     "data": {
      "image/png": "[encoded data removed]",
      "text/plain": [
       "<Figure size 432x288 with 1 Axes>"
      ]
     },
     "metadata": {
      "needs_background": "light"
     },
     "output_type": "display_data"
    }
   ],
   "source": [
    "sns.histplot(data = train_df, x=\"Family\", hue = \"Survived\", multiple = \"stack\", element = \"step\", kde = True, bins = 10)"
   ]
  },
  {
   "cell_type": "markdown",
   "metadata": {},
   "source": [
    "Again, we can see here that the majority of passengers had 0 family members and that if a passenger had 0 family members then they would have a low chance of surviving."
   ]
  },
  {
   "cell_type": "markdown",
   "metadata": {},
   "source": [
    "### Ticket\n",
    "\n",
    "Ticket may give us information, such as if multiple tickets were bought at once or the same ticket (number) were used by multiple people. However, to convert this to meaningful numerical data would be very difficult. To one hot encode this value, another 363 columns would need to be created as this is the number of unique ticket values. This column will therefore be removed."
   ]
  },
  {
   "cell_type": "code",
   "execution_count": 24,
   "metadata": {},
   "outputs": [
    {
     "name": "stdout",
     "output_type": "stream",
     "text": [
      "Unique ticket values: 363\n"
     ]
    }
   ],
   "source": [
    "print(f'Unique ticket values: {len(test_df.Ticket.unique())}')\n",
    "train_df = train_df.drop('Ticket', axis = 1)"
   ]
  },
  {
   "cell_type": "markdown",
   "metadata": {},
   "source": [
    "### Fare\n",
    "\n",
    "Fare simply shows us how much passengers paid for their tickets."
   ]
  },
  {
   "cell_type": "code",
   "execution_count": 25,
   "metadata": {},
   "outputs": [
    {
     "name": "stdout",
     "output_type": "stream",
     "text": [
      "Max Fare: 512.3292\n",
      "\n",
      "         Total  Not Survived  Survived  Survived %\n",
      "0-20     500.0         358.0     142.0    0.284000\n",
      "20-40    200.0         114.0      86.0    0.430000\n",
      "40-60     54.0          23.0      31.0    0.574074\n",
      "60-80     48.0          23.0      25.0    0.520833\n",
      "80-100    21.0           3.0      18.0    0.857143\n",
      "100-200   33.0           8.0      25.0    0.757576\n",
      "200-600   20.0           6.0      14.0    0.700000\n"
     ]
    }
   ],
   "source": [
    "# Remove NaN values with the Fare mean\n",
    "test_df['Fare'] = test_df['Fare'].fillna(test_df['Fare'].mean())\n",
    "\n",
    "# Max value is 512\n",
    "max_fare = train_df.Fare.max()\n",
    "print(f'Max Fare: {max_fare}\\n')\n",
    "\n",
    "fares = [[0, 20], [20, 40], [40, 60], [60, 80], [80, 100], [100, 200], [200, 600]]\n",
    "fare_data = [[], [], [], []]\n",
    "\n",
    "for i in fares:\n",
    "    total = train_df.query(f'Fare > {i[0]} and Fare <= {i[1]}')['Fare'].count()\n",
    "    fare_data[0].append(total)\n",
    "    \n",
    "    surv = train_df.query(f'Fare > {i[0]} and Fare <= {i[1]} and Survived == 1')['Fare'].count()\n",
    "    fare_data[1].append(total-surv)\n",
    "    fare_data[2].append(surv)\n",
    "    fare_data[3].append(1-(total-surv)/total)\n",
    "\n",
    "# Convert fare data to dataframe\n",
    "fare_pd = pd.DataFrame(fare_data, columns=[f'{f[0]}-{f[1]}' for f in fares], \n",
    "                   index=['Total', 'Not Survived', 'Survived', 'Survived %']).transpose()\n",
    "# Print fare data\n",
    "print(fare_pd)"
   ]
  },
  {
   "cell_type": "markdown",
   "metadata": {},
   "source": [
    "500 passengers paid between 0-20 which accounts for 56% of the total passengers. 200 passengers paid between 20-40 which is 22% of total passengers. Together, 78% of passengers paid between 0-40 and these passengers had the worst survival rate. The best survival rate were passengers who paid between 80-100 with a survival rate of 86%. In fact, any passenger who paid more than 80 had a survival rate of at least 70%. There is definitely a pattern that if you paid more for your ticket, you were more likely to survive."
   ]
  },
  {
   "cell_type": "code",
   "execution_count": 26,
   "metadata": {},
   "outputs": [
    {
     "data": {
      "text/plain": [
       "<AxesSubplot:xlabel='Fare', ylabel='count'>"
      ]
     },
     "execution_count": 26,
     "metadata": {},
     "output_type": "execute_result"
    },
    {
     "data": {
      "image/png": "[encoded data removed]",
      "text/plain": [
       "<Figure size 432x288 with 1 Axes>"
      ]
     },
     "metadata": {
      "needs_background": "light"
     },
     "output_type": "display_data"
    }
   ],
   "source": [
    "sns.countplot(data=train_df, x=\"Fare\")"
   ]
  },
  {
   "cell_type": "markdown",
   "metadata": {},
   "source": [
    "The only things this graph can show is that there is a lot of unique values of fares paid and that the distribution is very unequal."
   ]
  },
  {
   "cell_type": "code",
   "execution_count": 27,
   "metadata": {},
   "outputs": [
    {
     "data": {
      "text/plain": [
       "<AxesSubplot:xlabel='Fares', ylabel='Quantity'>"
      ]
     },
     "execution_count": 27,
     "metadata": {},
     "output_type": "execute_result"
    },
    {
     "data": {
      "image/png": "[encoded data removed]",
      "text/plain": [
       "<Figure size 432x288 with 1 Axes>"
      ]
     },
     "metadata": {
      "needs_background": "light"
     },
     "output_type": "display_data"
    }
   ],
   "source": [
    "fare_ranges = {'Fares':  [f'{f[0]}-{f[1]}' for f in fares],\n",
    "            'Quantity': fare_data[0]}\n",
    "\n",
    "fare_ranges_df = pd.DataFrame (fare_ranges, columns = ['Fares','Quantity'])\n",
    "\n",
    "sns.barplot(data=fare_ranges_df, x='Fares', y='Quantity')"
   ]
  },
  {
   "cell_type": "markdown",
   "metadata": {},
   "source": [
    "From the graph, the majority of passengers paid between 0 and 40. Even though the number of people paying above 40 is much less than those paying less, there is a pattern showing the more you pay for your ticket the more likely you are to survive. Passengers paying below 20 have a survival rate of 28% and passengers paying between 20 and 40 have a survival rate of 43%. However, all passengers paying above 40 have a survival rate of greater than 50%."
   ]
  },
  {
   "cell_type": "code",
   "execution_count": 28,
   "metadata": {},
   "outputs": [
    {
     "data": {
      "text/plain": [
       "<AxesSubplot:xlabel='Fare', ylabel='Count'>"
      ]
     },
     "execution_count": 28,
     "metadata": {},
     "output_type": "execute_result"
    },
    {
     "data": {
      "image/png": "[encoded data removed]",
      "text/plain": [
       "<Figure size 432x288 with 1 Axes>"
      ]
     },
     "metadata": {
      "needs_background": "light"
     },
     "output_type": "display_data"
    }
   ],
   "source": [
    "sns.histplot(data = train_df, x=\"Fare\", hue = \"Survived\", multiple = \"stack\", element = \"step\", kde = True, bins = 50)"
   ]
  },
  {
   "cell_type": "markdown",
   "metadata": {},
   "source": [
    "This graph shows us how unequal the distribution is and how little passengers paid for very expensive tickets compared to the number of passengers who paid for much cheaper tickets. It also shows that the passengers who had very cheap tickets had quite a low survival rate."
   ]
  },
  {
   "cell_type": "markdown",
   "metadata": {},
   "source": [
    "### Cabin\n",
    "\n",
    "The cabin column has 687 null values which is around 77% of the total dataset. It would not be worth trying to replace the null values because of the data structure and there are too many null values. Otherwise, this data could have told us information such as what floor each passenger was on. his column will be removed."
   ]
  },
  {
   "cell_type": "code",
   "execution_count": 29,
   "metadata": {},
   "outputs": [
    {
     "name": "stdout",
     "output_type": "stream",
     "text": [
      "Cabin null values: 687\n"
     ]
    }
   ],
   "source": [
    "print(f'Cabin null values: {train_df.Cabin.isna().sum()}')\n",
    "train_df = train_df.drop(\"Cabin\", axis = 1)"
   ]
  },
  {
   "cell_type": "markdown",
   "metadata": {},
   "source": [
    "### Embarked\n",
    "\n",
    "Embarked tells us where the port of embarkation for the passenger."
   ]
  },
  {
   "cell_type": "code",
   "execution_count": 30,
   "metadata": {},
   "outputs": [
    {
     "name": "stdout",
     "output_type": "stream",
     "text": [
      "<class 'pandas.core.frame.DataFrame'>\n",
      "Int64Index: 891 entries, 1 to 891\n",
      "Data columns (total 26 columns):\n",
      " #   Column        Non-Null Count  Dtype  \n",
      "---  ------        --------------  -----  \n",
      " 0   Survived      891 non-null    int64  \n",
      " 1   Pclass        891 non-null    int64  \n",
      " 2   Sex           891 non-null    int64  \n",
      " 3   Age           891 non-null    float64\n",
      " 4   SibSp         891 non-null    int64  \n",
      " 5   Parch         891 non-null    int64  \n",
      " 6   Fare          891 non-null    float64\n",
      " 7   Embarked      889 non-null    object \n",
      " 8   Capt          891 non-null    uint8  \n",
      " 9   Col           891 non-null    uint8  \n",
      " 10  Don           891 non-null    uint8  \n",
      " 11  Dr            891 non-null    uint8  \n",
      " 12  Jonkheer      891 non-null    uint8  \n",
      " 13  Lady          891 non-null    uint8  \n",
      " 14  Major         891 non-null    uint8  \n",
      " 15  Master        891 non-null    uint8  \n",
      " 16  Miss          891 non-null    uint8  \n",
      " 17  Mlle          891 non-null    uint8  \n",
      " 18  Mme           891 non-null    uint8  \n",
      " 19  Mr            891 non-null    uint8  \n",
      " 20  Mrs           891 non-null    uint8  \n",
      " 21  Ms            891 non-null    uint8  \n",
      " 22  Rev           891 non-null    uint8  \n",
      " 23  Sir           891 non-null    uint8  \n",
      " 24  the Countess  891 non-null    uint8  \n",
      " 25  Family        891 non-null    int64  \n",
      "dtypes: float64(2), int64(6), object(1), uint8(17)\n",
      "memory usage: 124.4+ KB\n"
     ]
    }
   ],
   "source": [
    "train_df.info()"
   ]
  },
  {
   "cell_type": "markdown",
   "metadata": {},
   "source": [
    "As you can see from the training dataframe info, there are two null values in the Embarked column."
   ]
  },
  {
   "cell_type": "code",
   "execution_count": 31,
   "metadata": {},
   "outputs": [
    {
     "name": "stdout",
     "output_type": "stream",
     "text": [
      "     Total  Not Survived  Survived  Survived %\n",
      "S    644.0         427.0     217.0    0.336957\n",
      "C    168.0          75.0      93.0    0.553571\n",
      "Q     77.0          47.0      30.0    0.389610\n",
      "NaN    0.0           0.0       0.0         NaN\n"
     ]
    },
    {
     "name": "stderr",
     "output_type": "stream",
     "text": [
      "C:\\Users\\jknot\\Anaconda3\\envs\\ML\\lib\\site-packages\\ipykernel_launcher.py:12: RuntimeWarning: invalid value encountered in longlong_scalars\n",
      "  if sys.path[0] == '':\n"
     ]
    }
   ],
   "source": [
    "emb_data = [[], [], [], []]\n",
    "\n",
    "ports = train_df['Embarked'].unique()\n",
    "\n",
    "for i in ports:\n",
    "    total = (train_df.Embarked == i).sum()\n",
    "    emb_data[0].append(total)\n",
    "        \n",
    "    surv = train_df.query(f'Embarked == \"{i}\" and Survived == 1')['Embarked'].count()\n",
    "    emb_data[1].append(total-surv)\n",
    "    emb_data[2].append(surv)\n",
    "    emb_data[3].append(1-(total-surv)/total)\n",
    "    \n",
    "emb_data = pd.DataFrame(emb_data, columns=ports, \n",
    "                   index=['Total', 'Not Survived', 'Survived', 'Survived %']).transpose()\n",
    "print(emb_data)"
   ]
  },
  {
   "cell_type": "code",
   "execution_count": 32,
   "metadata": {},
   "outputs": [
    {
     "data": {
      "text/plain": [
       "<AxesSubplot:xlabel='Survived', ylabel='count'>"
      ]
     },
     "execution_count": 32,
     "metadata": {},
     "output_type": "execute_result"
    },
    {
     "data": {
      "image/png": "[encoded data removed]",
      "text/plain": [
       "<Figure size 432x288 with 1 Axes>"
      ]
     },
     "metadata": {
      "needs_background": "light"
     },
     "output_type": "display_data"
    }
   ],
   "source": [
    "sns.countplot(data=train_df, hue=\"Embarked\", x=\"Survived\")"
   ]
  },
  {
   "cell_type": "markdown",
   "metadata": {},
   "source": [
    "The majority of passengers embarked from Southampton, this would be because the Titanic started its journey from Southampton. Passengers who embarked form Southampton made up 66% of all passengers but had the worst survival rate which was 34%.\n",
    "\n",
    "Passengers from Cherbourg had the best survival rate of 55%."
   ]
  },
  {
   "cell_type": "code",
   "execution_count": 33,
   "metadata": {},
   "outputs": [],
   "source": [
    "# Get one hot encoding columns for embarked\n",
    "emarked = pd.get_dummies(train_df.Embarked)\n",
    "\n",
    "# Join the one hot encoded embarked columns to the training dataframe\n",
    "train_df = train_df.join(emarked)\n",
    "\n",
    "# Drop the Embarked column which held non-numerical values\n",
    "train_df = train_df.drop(\"Embarked\", axis=1)"
   ]
  },
  {
   "cell_type": "markdown",
   "metadata": {},
   "source": [
    "The Embarked column has now been replaced with three columns which are the result of one hot encoding the Embarked column. Columns C, Q and S have been added and will have the value of 1 if a passenger has embarked from Cherbourg, Queenstown or Southampton respectively."
   ]
  },
  {
   "cell_type": "code",
   "execution_count": 34,
   "metadata": {},
   "outputs": [
    {
     "name": "stdout",
     "output_type": "stream",
     "text": [
      "<class 'pandas.core.frame.DataFrame'>\n",
      "Int64Index: 891 entries, 1 to 891\n",
      "Data columns (total 28 columns):\n",
      " #   Column        Non-Null Count  Dtype  \n",
      "---  ------        --------------  -----  \n",
      " 0   Survived      891 non-null    int64  \n",
      " 1   Pclass        891 non-null    int64  \n",
      " 2   Sex           891 non-null    int64  \n",
      " 3   Age           891 non-null    float64\n",
      " 4   SibSp         891 non-null    int64  \n",
      " 5   Parch         891 non-null    int64  \n",
      " 6   Fare          891 non-null    float64\n",
      " 7   Capt          891 non-null    uint8  \n",
      " 8   Col           891 non-null    uint8  \n",
      " 9   Don           891 non-null    uint8  \n",
      " 10  Dr            891 non-null    uint8  \n",
      " 11  Jonkheer      891 non-null    uint8  \n",
      " 12  Lady          891 non-null    uint8  \n",
      " 13  Major         891 non-null    uint8  \n",
      " 14  Master        891 non-null    uint8  \n",
      " 15  Miss          891 non-null    uint8  \n",
      " 16  Mlle          891 non-null    uint8  \n",
      " 17  Mme           891 non-null    uint8  \n",
      " 18  Mr            891 non-null    uint8  \n",
      " 19  Mrs           891 non-null    uint8  \n",
      " 20  Ms            891 non-null    uint8  \n",
      " 21  Rev           891 non-null    uint8  \n",
      " 22  Sir           891 non-null    uint8  \n",
      " 23  the Countess  891 non-null    uint8  \n",
      " 24  Family        891 non-null    int64  \n",
      " 25  C             891 non-null    uint8  \n",
      " 26  Q             891 non-null    uint8  \n",
      " 27  S             891 non-null    uint8  \n",
      "dtypes: float64(2), int64(6), uint8(20)\n",
      "memory usage: 120.1 KB\n"
     ]
    }
   ],
   "source": [
    "train_df.info()"
   ]
  },
  {
   "cell_type": "markdown",
   "metadata": {},
   "source": [
    "## Null Values"
   ]
  },
  {
   "cell_type": "code",
   "execution_count": 35,
   "metadata": {},
   "outputs": [
    {
     "name": "stdout",
     "output_type": "stream",
     "text": [
      "<class 'pandas.core.frame.DataFrame'>\n",
      "Int64Index: 891 entries, 1 to 891\n",
      "Data columns (total 28 columns):\n",
      " #   Column        Non-Null Count  Dtype  \n",
      "---  ------        --------------  -----  \n",
      " 0   Survived      891 non-null    int64  \n",
      " 1   Pclass        891 non-null    int64  \n",
      " 2   Sex           891 non-null    int64  \n",
      " 3   Age           891 non-null    float64\n",
      " 4   SibSp         891 non-null    int64  \n",
      " 5   Parch         891 non-null    int64  \n",
      " 6   Fare          891 non-null    float64\n",
      " 7   Capt          891 non-null    uint8  \n",
      " 8   Col           891 non-null    uint8  \n",
      " 9   Don           891 non-null    uint8  \n",
      " 10  Dr            891 non-null    uint8  \n",
      " 11  Jonkheer      891 non-null    uint8  \n",
      " 12  Lady          891 non-null    uint8  \n",
      " 13  Major         891 non-null    uint8  \n",
      " 14  Master        891 non-null    uint8  \n",
      " 15  Miss          891 non-null    uint8  \n",
      " 16  Mlle          891 non-null    uint8  \n",
      " 17  Mme           891 non-null    uint8  \n",
      " 18  Mr            891 non-null    uint8  \n",
      " 19  Mrs           891 non-null    uint8  \n",
      " 20  Ms            891 non-null    uint8  \n",
      " 21  Rev           891 non-null    uint8  \n",
      " 22  Sir           891 non-null    uint8  \n",
      " 23  the Countess  891 non-null    uint8  \n",
      " 24  Family        891 non-null    int64  \n",
      " 25  C             891 non-null    uint8  \n",
      " 26  Q             891 non-null    uint8  \n",
      " 27  S             891 non-null    uint8  \n",
      "dtypes: float64(2), int64(6), uint8(20)\n",
      "memory usage: 120.1 KB\n"
     ]
    }
   ],
   "source": [
    "train_df.info()"
   ]
  },
  {
   "cell_type": "markdown",
   "metadata": {},
   "source": [
    "As you can see, now no column has null values and all values are numerical."
   ]
  },
  {
   "cell_type": "markdown",
   "metadata": {},
   "source": [
    "## Preparing Test Data\n",
    "\n",
    "The test data must be prepared the same as the training data."
   ]
  },
  {
   "cell_type": "code",
   "execution_count": 36,
   "metadata": {},
   "outputs": [
    {
     "name": "stdout",
     "output_type": "stream",
     "text": [
      "<class 'pandas.core.frame.DataFrame'>\n",
      "Int64Index: 418 entries, 892 to 1309\n",
      "Data columns (total 11 columns):\n",
      " #   Column    Non-Null Count  Dtype  \n",
      "---  ------    --------------  -----  \n",
      " 0   Survived  418 non-null    int64  \n",
      " 1   Pclass    418 non-null    int64  \n",
      " 2   Name      418 non-null    object \n",
      " 3   Sex       418 non-null    object \n",
      " 4   Age       332 non-null    float64\n",
      " 5   SibSp     418 non-null    int64  \n",
      " 6   Parch     418 non-null    int64  \n",
      " 7   Ticket    418 non-null    object \n",
      " 8   Fare      418 non-null    float64\n",
      " 9   Cabin     91 non-null     object \n",
      " 10  Embarked  418 non-null    object \n",
      "dtypes: float64(2), int64(4), object(5)\n",
      "memory usage: 39.2+ KB\n"
     ]
    }
   ],
   "source": [
    "test_df.info()"
   ]
  },
  {
   "cell_type": "markdown",
   "metadata": {},
   "source": [
    "The test dataframe has null values, non-numerical values and is missing 17 columns compared to the training data."
   ]
  },
  {
   "cell_type": "code",
   "execution_count": 37,
   "metadata": {},
   "outputs": [],
   "source": [
    "# Convert to numerical values\n",
    "test_df = test_df.replace({'Sex': {'male': 1, 'female': 0}})"
   ]
  },
  {
   "cell_type": "markdown",
   "metadata": {},
   "source": [
    "First we can replace the Sex values in the test data for a 1 or a 0."
   ]
  },
  {
   "cell_type": "code",
   "execution_count": 38,
   "metadata": {},
   "outputs": [],
   "source": [
    "# Extract titles from the name column\n",
    "test_df['Title'] = test_df['Name'].map(lambda x: get_title(x))\n",
    "\n",
    "# One hot encode the titles to a new set of columns\n",
    "titles = pd.get_dummies(test_df.Title)\n",
    "\n",
    "# Join the one hot encoded title columns to the test data\n",
    "test_df = test_df.join(titles)"
   ]
  },
  {
   "cell_type": "markdown",
   "metadata": {},
   "source": [
    "Next we have one hot encoded the titles from the names in the test data and added all these columns to the test data."
   ]
  },
  {
   "cell_type": "code",
   "execution_count": 39,
   "metadata": {},
   "outputs": [],
   "source": [
    "# One hot encode the embarked column\n",
    "emarked = pd.get_dummies(test_df.Embarked)\n",
    "\n",
    "# Add the one hot encoded embarked columns\n",
    "test_df = test_df.join(emarked)"
   ]
  },
  {
   "cell_type": "markdown",
   "metadata": {},
   "source": [
    "The Embarked column has also been one hot encoded and the columns have been added to the test dataframe."
   ]
  },
  {
   "cell_type": "code",
   "execution_count": 40,
   "metadata": {},
   "outputs": [],
   "source": [
    "# Add Family column\n",
    "test_df['Family'] = test_df['SibSp'] + test_df['Parch']"
   ]
  },
  {
   "cell_type": "markdown",
   "metadata": {},
   "source": [
    "The family column has been added to the test data to represent the number of family members a passenger was with on the Titanic."
   ]
  },
  {
   "cell_type": "code",
   "execution_count": 41,
   "metadata": {},
   "outputs": [],
   "source": [
    "# Drop the cabin column as there are too many null values\n",
    "test_df = test_df.drop('Cabin', axis = 1)\n",
    "\n",
    "# Drop name column as we have extracted the titles from the names\n",
    "test_df = test_df.drop('Name', axis = 1)\n",
    "\n",
    "# Drop the titles column as we have one hot encoded them\n",
    "test_df = test_df.drop(\"Title\", axis=1)\n",
    "\n",
    "# Drop the ticket column as we have dropped it in the training data and it does not give us useful information at this point\n",
    "test_df = test_df.drop('Ticket', axis = 1)\n",
    "\n",
    "# Drop the embarked column as we have one hot encoded the embarkation ports\n",
    "test_df = test_df.drop(\"Embarked\", axis=1)"
   ]
  },
  {
   "cell_type": "markdown",
   "metadata": {},
   "source": [
    "The same columns that were removed from the training data have also been removed from the test data."
   ]
  },
  {
   "cell_type": "code",
   "execution_count": 42,
   "metadata": {},
   "outputs": [],
   "source": [
    "# Remove nulls from the age column with the mean age\n",
    "test_df['Age'] = test_df['Age'].fillna(test_df['Age'].mean())"
   ]
  },
  {
   "cell_type": "markdown",
   "metadata": {},
   "source": [
    "The only null values will now be in the age column so these will be filled with the mean age.\n",
    "\n",
    "It must be noted that the mean age for the test data was calculated only using the test data like the mean age for the training data was calculated only using the training data. It is most probable that these two means will be different. Like before, it should be stated that replacing null values with mean data will have an affect on the outcome but it is the best option at this moment."
   ]
  },
  {
   "cell_type": "code",
   "execution_count": 43,
   "metadata": {},
   "outputs": [
    {
     "name": "stdout",
     "output_type": "stream",
     "text": [
      "['Survived', 'Pclass', 'Sex', 'Age', 'SibSp', 'Parch', 'Fare', 'Capt', 'Col', 'Don', 'Dr', 'Jonkheer', 'Lady', 'Major', 'Master', 'Miss', 'Mlle', 'Mme', 'Mr', 'Mrs', 'Ms', 'Rev', 'Sir', 'the Countess', 'Family', 'C', 'Q', 'S']\n"
     ]
    }
   ],
   "source": [
    "# Get all columns from training dataset\n",
    "train_cols = list(train_df.columns.values)\n",
    "print(train_cols)"
   ]
  },
  {
   "cell_type": "code",
   "execution_count": 44,
   "metadata": {},
   "outputs": [
    {
     "name": "stdout",
     "output_type": "stream",
     "text": [
      "['Survived', 'Pclass', 'Sex', 'Age', 'SibSp', 'Parch', 'Fare', 'Col', 'Dona', 'Dr', 'Master', 'Miss', 'Mr', 'Mrs', 'Ms', 'Rev', 'C', 'Q', 'S', 'Family']\n"
     ]
    }
   ],
   "source": [
    "# Get all columns from testing dataset\n",
    "test_cols = list(test_df.columns.values)\n",
    "print(test_cols)"
   ]
  },
  {
   "cell_type": "markdown",
   "metadata": {},
   "source": [
    "After printing all the columns from the training dataset and the testing dataset, we can see that the testing dataset is missing columns. Not only that, there are columns unique to each dataset because of titles only occuring in one dataset or the other.\n",
    "\n",
    "To fix this, empty columns with all values at 0 can be added to each dataset."
   ]
  },
  {
   "cell_type": "code",
   "execution_count": 45,
   "metadata": {},
   "outputs": [],
   "source": [
    "# Add empty one hot encoding columns to training and testing data\n",
    "for col in train_cols:\n",
    "    if col not in test_cols:\n",
    "        test_df[col] = 0\n",
    "        \n",
    "for col in test_cols:\n",
    "    if col not in train_cols:\n",
    "        train_df[col] = 0"
   ]
  },
  {
   "cell_type": "markdown",
   "metadata": {},
   "source": [
    "Each of the datasets will be gone through and checked if they have each of the columns in the corresponding datasets. If they do not have the column, a column will be added with values of 0 so that each dataset will have matching columns."
   ]
  },
  {
   "cell_type": "code",
   "execution_count": 47,
   "metadata": {},
   "outputs": [
    {
     "name": "stdout",
     "output_type": "stream",
     "text": [
      "<class 'pandas.core.frame.DataFrame'>\n",
      "Int64Index: 891 entries, 1 to 891\n",
      "Data columns (total 29 columns):\n",
      " #   Column        Non-Null Count  Dtype  \n",
      "---  ------        --------------  -----  \n",
      " 0   Age           891 non-null    float64\n",
      " 1   C             891 non-null    uint8  \n",
      " 2   Capt          891 non-null    uint8  \n",
      " 3   Col           891 non-null    uint8  \n",
      " 4   Don           891 non-null    uint8  \n",
      " 5   Dona          891 non-null    int64  \n",
      " 6   Dr            891 non-null    uint8  \n",
      " 7   Family        891 non-null    int64  \n",
      " 8   Fare          891 non-null    float64\n",
      " 9   Jonkheer      891 non-null    uint8  \n",
      " 10  Lady          891 non-null    uint8  \n",
      " 11  Major         891 non-null    uint8  \n",
      " 12  Master        891 non-null    uint8  \n",
      " 13  Miss          891 non-null    uint8  \n",
      " 14  Mlle          891 non-null    uint8  \n",
      " 15  Mme           891 non-null    uint8  \n",
      " 16  Mr            891 non-null    uint8  \n",
      " 17  Mrs           891 non-null    uint8  \n",
      " 18  Ms            891 non-null    uint8  \n",
      " 19  Parch         891 non-null    int64  \n",
      " 20  Pclass        891 non-null    int64  \n",
      " 21  Q             891 non-null    uint8  \n",
      " 22  Rev           891 non-null    uint8  \n",
      " 23  S             891 non-null    uint8  \n",
      " 24  Sex           891 non-null    int64  \n",
      " 25  SibSp         891 non-null    int64  \n",
      " 26  Sir           891 non-null    uint8  \n",
      " 27  Survived      891 non-null    int64  \n",
      " 28  the Countess  891 non-null    uint8  \n",
      "dtypes: float64(2), int64(7), uint8(20)\n",
      "memory usage: 127.0 KB\n",
      "None\n",
      "<class 'pandas.core.frame.DataFrame'>\n",
      "Int64Index: 418 entries, 892 to 1309\n",
      "Data columns (total 29 columns):\n",
      " #   Column        Non-Null Count  Dtype  \n",
      "---  ------        --------------  -----  \n",
      " 0   Age           418 non-null    float64\n",
      " 1   C             418 non-null    uint8  \n",
      " 2   Capt          418 non-null    int64  \n",
      " 3   Col           418 non-null    uint8  \n",
      " 4   Don           418 non-null    int64  \n",
      " 5   Dona          418 non-null    uint8  \n",
      " 6   Dr            418 non-null    uint8  \n",
      " 7   Family        418 non-null    int64  \n",
      " 8   Fare          418 non-null    float64\n",
      " 9   Jonkheer      418 non-null    int64  \n",
      " 10  Lady          418 non-null    int64  \n",
      " 11  Major         418 non-null    int64  \n",
      " 12  Master        418 non-null    uint8  \n",
      " 13  Miss          418 non-null    uint8  \n",
      " 14  Mlle          418 non-null    int64  \n",
      " 15  Mme           418 non-null    int64  \n",
      " 16  Mr            418 non-null    uint8  \n",
      " 17  Mrs           418 non-null    uint8  \n",
      " 18  Ms            418 non-null    uint8  \n",
      " 19  Parch         418 non-null    int64  \n",
      " 20  Pclass        418 non-null    int64  \n",
      " 21  Q             418 non-null    uint8  \n",
      " 22  Rev           418 non-null    uint8  \n",
      " 23  S             418 non-null    uint8  \n",
      " 24  Sex           418 non-null    int64  \n",
      " 25  SibSp         418 non-null    int64  \n",
      " 26  Sir           418 non-null    int64  \n",
      " 27  Survived      418 non-null    int64  \n",
      " 28  the Countess  418 non-null    int64  \n",
      "dtypes: float64(2), int64(15), uint8(12)\n",
      "memory usage: 83.7 KB\n",
      "None\n"
     ]
    }
   ],
   "source": [
    "# Sort data frames by column names\n",
    "train_df = train_df.sort_index(axis = 1)\n",
    "test_df = test_df.sort_index(axis = 1)\n",
    "\n",
    "print(train_df.info())\n",
    "print(test_df.info())"
   ]
  },
  {
   "cell_type": "markdown",
   "metadata": {},
   "source": [
    "As we can see, both the training and testing datasets now have no nulls and consistent columns.\n",
    "\n",
    "For some ML models, it is wise to scale the data. Unscaled data can affect performance of models such as KNN, where varying magnitudes of data can decrease performance."
   ]
  },
  {
   "cell_type": "code",
   "execution_count": 48,
   "metadata": {},
   "outputs": [],
   "source": [
    "test_surv = test_df['Survived']\n",
    "test_df = test_df.drop('Survived', axis=1)\n",
    "\n",
    "train_surv = train_df['Survived']\n",
    "train_df = train_df.drop('Survived', axis=1)"
   ]
  },
  {
   "cell_type": "code",
   "execution_count": 49,
   "metadata": {},
   "outputs": [],
   "source": [
    "scaler = StandardScaler()\n",
    "train_sc = scaler.fit_transform(train_df)\n",
    "test_sc = scaler.transform(test_df)"
   ]
  },
  {
   "cell_type": "markdown",
   "metadata": {},
   "source": [
    "## ML Models\n",
    "\n",
    "The models I will be implementing are:\n",
    "- Random Forest\n",
    "- Logistic Regression\n",
    "- K Nearest Neighbours\n",
    "- Support Vector Machine\n",
    "\n",
    "\n",
    "\n"
   ]
  },
  {
   "cell_type": "markdown",
   "metadata": {},
   "source": [
    "### Random Forest\n",
    "\n",
    "Note: as the Random Forest Classifer has random elements to it, every time it is run the result may change slightly. The other models have consistent results."
   ]
  },
  {
   "cell_type": "code",
   "execution_count": 50,
   "metadata": {},
   "outputs": [
    {
     "name": "stdout",
     "output_type": "stream",
     "text": [
      "0.7583732057416268\n"
     ]
    }
   ],
   "source": [
    "# Initialise the model\n",
    "rfc = RandomForestClassifier()\n",
    "\n",
    "# Train the model on the training data and the training data survivors\n",
    "rfc.fit(train_df, train_surv)\n",
    "\n",
    "# Predict the survivors from the test data\n",
    "pred = rfc.predict(test_df)\n",
    "\n",
    "# Get an accuracy score from the test data prediction\n",
    "rfc_acc = accuracy_score(test_surv, pred)\n",
    "\n",
    "# Print accuracy\n",
    "print(rfc_acc)"
   ]
  },
  {
   "cell_type": "markdown",
   "metadata": {},
   "source": [
    "The RF model gives an accuracy score of 75.84%."
   ]
  },
  {
   "cell_type": "code",
   "execution_count": 51,
   "metadata": {},
   "outputs": [
    {
     "name": "stdout",
     "output_type": "stream",
     "text": [
      "[[210  50]\n",
      " [ 51 107]]\n"
     ]
    }
   ],
   "source": [
    "print(confusion_matrix(test_surv, pred))"
   ]
  },
  {
   "cell_type": "markdown",
   "metadata": {},
   "source": [
    "The confusion matrix is pretty good. There are 210 true negatives out of a total of 260 negatives and 107 true positives out of a total of 158 positives."
   ]
  },
  {
   "cell_type": "code",
   "execution_count": 52,
   "metadata": {},
   "outputs": [
    {
     "name": "stdout",
     "output_type": "stream",
     "text": [
      "              precision    recall  f1-score   support\n",
      "\n",
      "           0       0.80      0.81      0.81       260\n",
      "           1       0.68      0.68      0.68       158\n",
      "\n",
      "    accuracy                           0.76       418\n",
      "   macro avg       0.74      0.74      0.74       418\n",
      "weighted avg       0.76      0.76      0.76       418\n",
      "\n"
     ]
    }
   ],
   "source": [
    "print(classification_report(test_surv, pred))"
   ]
  },
  {
   "cell_type": "markdown",
   "metadata": {},
   "source": [
    "The confusion matrix gives us more insight into how well the model performs. It shows scores for predicting the negatives and the positives.\n",
    "\n",
    "Precision shows what percentage of predictions were correct. Recall is what percentage of cases did you catch. The f1-score gives a balance between precision and recall.\n",
    "\n",
    "The scores for predicting negatives are better throughout than the scores for prediciting positives."
   ]
  },
  {
   "cell_type": "code",
   "execution_count": 53,
   "metadata": {},
   "outputs": [
    {
     "name": "stdout",
     "output_type": "stream",
     "text": [
      "Fitting 3 folds for each of 576 candidates, totalling 1728 fits\n"
     ]
    },
    {
     "name": "stderr",
     "output_type": "stream",
     "text": [
      "[Parallel(n_jobs=-1)]: Using backend LokyBackend with 8 concurrent workers.\n",
      "[Parallel(n_jobs=-1)]: Done  25 tasks      | elapsed:    7.5s\n",
      "[Parallel(n_jobs=-1)]: Done 146 tasks      | elapsed:   28.1s\n",
      "[Parallel(n_jobs=-1)]: Done 349 tasks      | elapsed:  1.1min\n",
      "[Parallel(n_jobs=-1)]: Done 632 tasks      | elapsed:  2.0min\n",
      "[Parallel(n_jobs=-1)]: Done 997 tasks      | elapsed:  3.1min\n",
      "[Parallel(n_jobs=-1)]: Done 1442 tasks      | elapsed:  4.2min\n",
      "[Parallel(n_jobs=-1)]: Done 1728 out of 1728 | elapsed:  4.8min finished\n"
     ]
    },
    {
     "name": "stdout",
     "output_type": "stream",
     "text": [
      "{'bootstrap': False, 'max_depth': 80, 'max_features': 2, 'min_samples_leaf': 3, 'min_samples_split': 10, 'n_estimators': 200}\n"
     ]
    }
   ],
   "source": [
    "# RF hyperparameters\n",
    "param_grid = {\n",
    "    'bootstrap': [True, False],\n",
    "    'max_depth': [80, 90, 100, 110],\n",
    "    'max_features': [2, 3],\n",
    "    'min_samples_leaf': [3, 4, 5],\n",
    "    'min_samples_split': [8, 10, 12],\n",
    "    'n_estimators': [100, 200, 300, 1000]\n",
    "}\n",
    "\n",
    "grid_search = GridSearchCV(estimator = RandomForestClassifier(), param_grid = param_grid, \n",
    "                          cv = 3, n_jobs = -1, verbose = 2)\n",
    "\n",
    "grid_search.fit(train_df, train_surv)\n",
    "\n",
    "print(grid_search.best_params_)"
   ]
  },
  {
   "cell_type": "markdown",
   "metadata": {},
   "source": [
    "The best parameters for this model in this scenario are 80 max depth, 2 max features, 3 min samples lead, 10 min samples split, 200 estimators and bootstrap set to false."
   ]
  },
  {
   "cell_type": "code",
   "execution_count": 54,
   "metadata": {},
   "outputs": [
    {
     "name": "stdout",
     "output_type": "stream",
     "text": [
      "0.7799043062200957\n"
     ]
    }
   ],
   "source": [
    "# Make a new Random Forest model based on the best parameters found before\n",
    "rfc = RandomForestClassifier(**grid_search.best_params_)\n",
    "\n",
    "# Fit the model to the training data\n",
    "rfc.fit(train_df, train_surv)\n",
    "\n",
    "# Get a predicition from the test data\n",
    "pred = rfc.predict(test_df)\n",
    "\n",
    "# Generate an accuracy from the prediction\n",
    "rfc_acc = accuracy_score(test_surv, pred)\n",
    "\n",
    "print(rfc_acc)"
   ]
  },
  {
   "cell_type": "markdown",
   "metadata": {},
   "source": [
    "The accuracy score with the new parameters is 77.99% which is 2.15% more than the previous score."
   ]
  },
  {
   "cell_type": "code",
   "execution_count": 55,
   "metadata": {},
   "outputs": [
    {
     "name": "stdout",
     "output_type": "stream",
     "text": [
      "[[223  37]\n",
      " [ 55 103]]\n"
     ]
    }
   ],
   "source": [
    "print(confusion_matrix(test_surv, pred))\n",
    "rfc_confusion = confusion_matrix(test_surv, pred)"
   ]
  },
  {
   "cell_type": "markdown",
   "metadata": {},
   "source": [
    "The updated RF has more TN and TP with its updated hyperparameters."
   ]
  },
  {
   "cell_type": "code",
   "execution_count": 56,
   "metadata": {},
   "outputs": [
    {
     "name": "stdout",
     "output_type": "stream",
     "text": [
      "              precision    recall  f1-score   support\n",
      "\n",
      "           0       0.80      0.86      0.83       260\n",
      "           1       0.74      0.65      0.69       158\n",
      "\n",
      "    accuracy                           0.78       418\n",
      "   macro avg       0.77      0.75      0.76       418\n",
      "weighted avg       0.78      0.78      0.78       418\n",
      "\n"
     ]
    }
   ],
   "source": [
    "print(classification_report(test_surv, pred))\n",
    "rfc_classification = classification_report(test_surv, pred, output_dict=True)"
   ]
  },
  {
   "cell_type": "markdown",
   "metadata": {},
   "source": [
    "The scores for predicting positives was a bit lower than the scores for predicting negatives. However, predicting positives with the new RF model has improved for precision and f1-score."
   ]
  },
  {
   "cell_type": "code",
   "execution_count": 57,
   "metadata": {},
   "outputs": [
    {
     "data": {
      "text/html": [
       "<div>\n",
       "<style scoped>\n",
       "    .dataframe tbody tr th:only-of-type {\n",
       "        vertical-align: middle;\n",
       "    }\n",
       "\n",
       "    .dataframe tbody tr th {\n",
       "        vertical-align: top;\n",
       "    }\n",
       "\n",
       "    .dataframe thead th {\n",
       "        text-align: right;\n",
       "    }\n",
       "</style>\n",
       "<table border=\"1\" class=\"dataframe\">\n",
       "  <thead>\n",
       "    <tr style=\"text-align: right;\">\n",
       "      <th></th>\n",
       "      <th>importance</th>\n",
       "    </tr>\n",
       "    <tr>\n",
       "      <th>feature</th>\n",
       "      <th></th>\n",
       "    </tr>\n",
       "  </thead>\n",
       "  <tbody>\n",
       "    <tr>\n",
       "      <th>Mr</th>\n",
       "      <td>0.163670</td>\n",
       "    </tr>\n",
       "    <tr>\n",
       "      <th>Sex</th>\n",
       "      <td>0.156665</td>\n",
       "    </tr>\n",
       "    <tr>\n",
       "      <th>Fare</th>\n",
       "      <td>0.137175</td>\n",
       "    </tr>\n",
       "    <tr>\n",
       "      <th>Pclass</th>\n",
       "      <td>0.097089</td>\n",
       "    </tr>\n",
       "    <tr>\n",
       "      <th>Mrs</th>\n",
       "      <td>0.082181</td>\n",
       "    </tr>\n",
       "    <tr>\n",
       "      <th>Age</th>\n",
       "      <td>0.080477</td>\n",
       "    </tr>\n",
       "    <tr>\n",
       "      <th>Miss</th>\n",
       "      <td>0.070664</td>\n",
       "    </tr>\n",
       "    <tr>\n",
       "      <th>Family</th>\n",
       "      <td>0.051544</td>\n",
       "    </tr>\n",
       "    <tr>\n",
       "      <th>Rev</th>\n",
       "      <td>0.040620</td>\n",
       "    </tr>\n",
       "    <tr>\n",
       "      <th>SibSp</th>\n",
       "      <td>0.036643</td>\n",
       "    </tr>\n",
       "    <tr>\n",
       "      <th>Parch</th>\n",
       "      <td>0.024558</td>\n",
       "    </tr>\n",
       "    <tr>\n",
       "      <th>S</th>\n",
       "      <td>0.016569</td>\n",
       "    </tr>\n",
       "    <tr>\n",
       "      <th>C</th>\n",
       "      <td>0.014559</td>\n",
       "    </tr>\n",
       "    <tr>\n",
       "      <th>Master</th>\n",
       "      <td>0.014288</td>\n",
       "    </tr>\n",
       "    <tr>\n",
       "      <th>Q</th>\n",
       "      <td>0.013096</td>\n",
       "    </tr>\n",
       "    <tr>\n",
       "      <th>Dr</th>\n",
       "      <td>0.000203</td>\n",
       "    </tr>\n",
       "    <tr>\n",
       "      <th>Ms</th>\n",
       "      <td>0.000000</td>\n",
       "    </tr>\n",
       "    <tr>\n",
       "      <th>Sir</th>\n",
       "      <td>0.000000</td>\n",
       "    </tr>\n",
       "    <tr>\n",
       "      <th>Mlle</th>\n",
       "      <td>0.000000</td>\n",
       "    </tr>\n",
       "    <tr>\n",
       "      <th>Mme</th>\n",
       "      <td>0.000000</td>\n",
       "    </tr>\n",
       "    <tr>\n",
       "      <th>Major</th>\n",
       "      <td>0.000000</td>\n",
       "    </tr>\n",
       "    <tr>\n",
       "      <th>Lady</th>\n",
       "      <td>0.000000</td>\n",
       "    </tr>\n",
       "    <tr>\n",
       "      <th>Jonkheer</th>\n",
       "      <td>0.000000</td>\n",
       "    </tr>\n",
       "    <tr>\n",
       "      <th>Dona</th>\n",
       "      <td>0.000000</td>\n",
       "    </tr>\n",
       "    <tr>\n",
       "      <th>Don</th>\n",
       "      <td>0.000000</td>\n",
       "    </tr>\n",
       "    <tr>\n",
       "      <th>Col</th>\n",
       "      <td>0.000000</td>\n",
       "    </tr>\n",
       "    <tr>\n",
       "      <th>Capt</th>\n",
       "      <td>0.000000</td>\n",
       "    </tr>\n",
       "    <tr>\n",
       "      <th>the Countess</th>\n",
       "      <td>0.000000</td>\n",
       "    </tr>\n",
       "  </tbody>\n",
       "</table>\n",
       "</div>"
      ],
      "text/plain": [
       "              importance\n",
       "feature                 \n",
       "Mr              0.163670\n",
       "Sex             0.156665\n",
       "Fare            0.137175\n",
       "Pclass          0.097089\n",
       "Mrs             0.082181\n",
       "Age             0.080477\n",
       "Miss            0.070664\n",
       "Family          0.051544\n",
       "Rev             0.040620\n",
       "SibSp           0.036643\n",
       "Parch           0.024558\n",
       "S               0.016569\n",
       "C               0.014559\n",
       "Master          0.014288\n",
       "Q               0.013096\n",
       "Dr              0.000203\n",
       "Ms              0.000000\n",
       "Sir             0.000000\n",
       "Mlle            0.000000\n",
       "Mme             0.000000\n",
       "Major           0.000000\n",
       "Lady            0.000000\n",
       "Jonkheer        0.000000\n",
       "Dona            0.000000\n",
       "Don             0.000000\n",
       "Col             0.000000\n",
       "Capt            0.000000\n",
       "the Countess    0.000000"
      ]
     },
     "execution_count": 57,
     "metadata": {},
     "output_type": "execute_result"
    }
   ],
   "source": [
    "feature_importances = pd.DataFrame({'feature': test_df.columns,'importance': rfc.feature_importances_})\n",
    "feature_importances = feature_importances.sort_values('importance',ascending=False).set_index('feature')\n",
    "feature_importances"
   ]
  },
  {
   "cell_type": "markdown",
   "metadata": {},
   "source": [
    "We can see with RF which features had the most importance. As seen, a lot of the rare titles had zero weight on decisions. The most important were Mr, Fare and Sex which means that the gender and how much the passenger's ticket cost was more important for this model to decide if the passenger survived or not."
   ]
  },
  {
   "cell_type": "markdown",
   "metadata": {},
   "source": [
    "### Logistic Regression"
   ]
  },
  {
   "cell_type": "code",
   "execution_count": 58,
   "metadata": {},
   "outputs": [
    {
     "name": "stdout",
     "output_type": "stream",
     "text": [
      "0.777511961722488\n"
     ]
    },
    {
     "name": "stderr",
     "output_type": "stream",
     "text": [
      "C:\\Users\\jknot\\Anaconda3\\envs\\ML\\lib\\site-packages\\sklearn\\linear_model\\_logistic.py:764: ConvergenceWarning: lbfgs failed to converge (status=1):\n",
      "STOP: TOTAL NO. of ITERATIONS REACHED LIMIT.\n",
      "\n",
      "Increase the number of iterations (max_iter) or scale the data as shown in:\n",
      "    https://scikit-learn.org/stable/modules/preprocessing.html\n",
      "Please also refer to the documentation for alternative solver options:\n",
      "    https://scikit-learn.org/stable/modules/linear_model.html#logistic-regression\n",
      "  extra_warning_msg=_LOGISTIC_SOLVER_CONVERGENCE_MSG)\n"
     ]
    }
   ],
   "source": [
    "# Initialise the model\n",
    "lr = LogisticRegression()\n",
    "\n",
    "# Fit the model with the training data\n",
    "lr.fit(train_df, train_surv)\n",
    "\n",
    "# Get a prediciton for the test data\n",
    "pred = lr.predict(test_df)\n",
    "\n",
    "# Get an accuracy score for the predicition\n",
    "lr_acc = accuracy_score(test_surv, pred)\n",
    "\n",
    "print(lr_acc)"
   ]
  },
  {
   "cell_type": "markdown",
   "metadata": {},
   "source": [
    "There was an accuracy score of 77.75% with the Logistic Regression model. However, accuracy does not show everything."
   ]
  },
  {
   "cell_type": "code",
   "execution_count": 59,
   "metadata": {},
   "outputs": [
    {
     "name": "stdout",
     "output_type": "stream",
     "text": [
      "[[209  51]\n",
      " [ 42 116]]\n"
     ]
    }
   ],
   "source": [
    "print(confusion_matrix(test_surv, pred))"
   ]
  },
  {
   "cell_type": "markdown",
   "metadata": {},
   "source": [
    "There are 209 true negatives and 116 true positives. There are 51 false negatives and 42 false positives."
   ]
  },
  {
   "cell_type": "code",
   "execution_count": 60,
   "metadata": {},
   "outputs": [
    {
     "name": "stdout",
     "output_type": "stream",
     "text": [
      "              precision    recall  f1-score   support\n",
      "\n",
      "           0       0.83      0.80      0.82       260\n",
      "           1       0.69      0.73      0.71       158\n",
      "\n",
      "    accuracy                           0.78       418\n",
      "   macro avg       0.76      0.77      0.77       418\n",
      "weighted avg       0.78      0.78      0.78       418\n",
      "\n"
     ]
    }
   ],
   "source": [
    "print(classification_report(test_surv, pred))"
   ]
  },
  {
   "cell_type": "markdown",
   "metadata": {},
   "source": [
    "The classification report shows us how the model performed in other metrics. When predicting a positive there is not much accuracy unlike predicting a negative. For example, predicting a negative has a 14% better precision than predicting a positive.\n",
    "\n",
    "Now we will use different combination of parameters to see which ones are most suitable for this model in this scenario. After this, we can test the model again and see if it improves."
   ]
  },
  {
   "cell_type": "code",
   "execution_count": 61,
   "metadata": {},
   "outputs": [
    {
     "name": "stdout",
     "output_type": "stream",
     "text": [
      "Fitting 3 folds for each of 375 candidates, totalling 1125 fits\n"
     ]
    },
    {
     "name": "stderr",
     "output_type": "stream",
     "text": [
      "[Parallel(n_jobs=-1)]: Using backend LokyBackend with 8 concurrent workers.\n",
      "[Parallel(n_jobs=-1)]: Done  34 tasks      | elapsed:    0.3s\n",
      "[Parallel(n_jobs=-1)]: Done 758 tasks      | elapsed:   12.1s\n"
     ]
    },
    {
     "name": "stdout",
     "output_type": "stream",
     "text": [
      "{'C': 1, 'max_iter': 100, 'penalty': 'l2', 'solver': 'lbfgs'}\n"
     ]
    },
    {
     "name": "stderr",
     "output_type": "stream",
     "text": [
      "[Parallel(n_jobs=-1)]: Done 1125 out of 1125 | elapsed:   26.1s finished\n",
      "C:\\Users\\jknot\\Anaconda3\\envs\\ML\\lib\\site-packages\\sklearn\\linear_model\\_logistic.py:764: ConvergenceWarning: lbfgs failed to converge (status=1):\n",
      "STOP: TOTAL NO. of ITERATIONS REACHED LIMIT.\n",
      "\n",
      "Increase the number of iterations (max_iter) or scale the data as shown in:\n",
      "    https://scikit-learn.org/stable/modules/preprocessing.html\n",
      "Please also refer to the documentation for alternative solver options:\n",
      "    https://scikit-learn.org/stable/modules/linear_model.html#logistic-regression\n",
      "  extra_warning_msg=_LOGISTIC_SOLVER_CONVERGENCE_MSG)\n"
     ]
    }
   ],
   "source": [
    "param_grid = {\n",
    "    'penalty': ['l1', 'l2', 'elasticnet'],\n",
    "    'solver': ['newton-cg', 'lbfgs', 'liblinear', 'sag', 'saga'],\n",
    "    'max_iter':[100, 500, 1000, 5000, 10000],\n",
    "    'C': [0.01, 0.1, 1, 10, 100]\n",
    "}\n",
    "\n",
    "grid_search = GridSearchCV(estimator = LogisticRegression(), param_grid = param_grid, \n",
    "                          cv = 3, n_jobs = -1, verbose = 2)\n",
    "\n",
    "grid_search.fit(train_df, train_surv)\n",
    "\n",
    "print(grid_search.best_params_)"
   ]
  },
  {
   "cell_type": "code",
   "execution_count": 62,
   "metadata": {},
   "outputs": [
    {
     "name": "stdout",
     "output_type": "stream",
     "text": [
      "0.777511961722488\n"
     ]
    },
    {
     "name": "stderr",
     "output_type": "stream",
     "text": [
      "C:\\Users\\jknot\\Anaconda3\\envs\\ML\\lib\\site-packages\\sklearn\\linear_model\\_logistic.py:764: ConvergenceWarning: lbfgs failed to converge (status=1):\n",
      "STOP: TOTAL NO. of ITERATIONS REACHED LIMIT.\n",
      "\n",
      "Increase the number of iterations (max_iter) or scale the data as shown in:\n",
      "    https://scikit-learn.org/stable/modules/preprocessing.html\n",
      "Please also refer to the documentation for alternative solver options:\n",
      "    https://scikit-learn.org/stable/modules/linear_model.html#logistic-regression\n",
      "  extra_warning_msg=_LOGISTIC_SOLVER_CONVERGENCE_MSG)\n"
     ]
    }
   ],
   "source": [
    "# Make a new Logistic Regression model based on the best parameters found before\n",
    "lr = LogisticRegression(**grid_search.best_params_)\n",
    "\n",
    "# Fit the model with the training data\n",
    "lr.fit(train_df, train_surv)\n",
    "\n",
    "# Predict with the test data\n",
    "pred = lr.predict(test_df)\n",
    "\n",
    "# Get an accuracy score with the predicition\n",
    "lr_acc = accuracy_score(test_surv, pred)\n",
    "\n",
    "print(lr_acc)"
   ]
  },
  {
   "cell_type": "markdown",
   "metadata": {},
   "source": [
    "We get the same accuracy result as previously with a score of 77.75%."
   ]
  },
  {
   "cell_type": "code",
   "execution_count": 63,
   "metadata": {},
   "outputs": [
    {
     "name": "stdout",
     "output_type": "stream",
     "text": [
      "[[209  51]\n",
      " [ 42 116]]\n"
     ]
    }
   ],
   "source": [
    "print(confusion_matrix(test_surv, pred))\n",
    "lr_confusion = confusion_matrix(test_surv, pred)"
   ]
  },
  {
   "cell_type": "code",
   "execution_count": 64,
   "metadata": {},
   "outputs": [
    {
     "name": "stdout",
     "output_type": "stream",
     "text": [
      "              precision    recall  f1-score   support\n",
      "\n",
      "           0       0.83      0.80      0.82       260\n",
      "           1       0.69      0.73      0.71       158\n",
      "\n",
      "    accuracy                           0.78       418\n",
      "   macro avg       0.76      0.77      0.77       418\n",
      "weighted avg       0.78      0.78      0.78       418\n",
      "\n"
     ]
    }
   ],
   "source": [
    "print(classification_report(test_surv, pred))\n",
    "lr_classification = classification_report(test_surv, pred, output_dict=True)"
   ]
  },
  {
   "cell_type": "markdown",
   "metadata": {},
   "source": [
    "We also get the same confusion matrix and classification reports as before. These will be used later to compare against other models."
   ]
  },
  {
   "cell_type": "markdown",
   "metadata": {},
   "source": [
    "### K Nearest Neighbours"
   ]
  },
  {
   "cell_type": "code",
   "execution_count": 65,
   "metadata": {},
   "outputs": [
    {
     "name": "stdout",
     "output_type": "stream",
     "text": [
      "0.6578947368421053\n"
     ]
    }
   ],
   "source": [
    "# Initialise model\n",
    "knn = KNeighborsClassifier()\n",
    "\n",
    "# Fit the model with the training data\n",
    "knn.fit(train_df, train_surv)\n",
    "\n",
    "# Make a predicition with the test data\n",
    "pred = knn.predict(test_df)\n",
    "\n",
    "# Create an accuracy score with the predicition.\n",
    "knn_acc = accuracy_score(test_surv, pred)\n",
    "\n",
    "print(knn_acc)"
   ]
  },
  {
   "cell_type": "markdown",
   "metadata": {},
   "source": [
    "KNN has produced an accuracy score of 65.79%."
   ]
  },
  {
   "cell_type": "code",
   "execution_count": 66,
   "metadata": {},
   "outputs": [
    {
     "name": "stdout",
     "output_type": "stream",
     "text": [
      "[[193  67]\n",
      " [ 76  82]]\n"
     ]
    }
   ],
   "source": [
    "print(confusion_matrix(test_surv, pred))"
   ]
  },
  {
   "cell_type": "markdown",
   "metadata": {},
   "source": [
    "For the KNN confusion matrix, only one value stands out which is the true negative with 193 results. The other results are quite similar, meaning it is a poor model."
   ]
  },
  {
   "cell_type": "code",
   "execution_count": 67,
   "metadata": {},
   "outputs": [
    {
     "name": "stdout",
     "output_type": "stream",
     "text": [
      "              precision    recall  f1-score   support\n",
      "\n",
      "           0       0.72      0.74      0.73       260\n",
      "           1       0.55      0.52      0.53       158\n",
      "\n",
      "    accuracy                           0.66       418\n",
      "   macro avg       0.63      0.63      0.63       418\n",
      "weighted avg       0.65      0.66      0.66       418\n",
      "\n"
     ]
    }
   ],
   "source": [
    "print(classification_report(test_surv, pred))"
   ]
  },
  {
   "cell_type": "markdown",
   "metadata": {},
   "source": [
    "The classification report shows how poor this KNN model is at predicting positives with all positive scores below 56%.\n",
    "\n",
    "To improve the KNN model, we can use scaled data. KNN does not deal with a varying magnitude of data values."
   ]
  },
  {
   "cell_type": "code",
   "execution_count": 68,
   "metadata": {},
   "outputs": [
    {
     "name": "stdout",
     "output_type": "stream",
     "text": [
      "0.7631578947368421\n"
     ]
    }
   ],
   "source": [
    "# Scaled data\n",
    "# Fit the model to the scaled training data\n",
    "knn.fit(train_sc, train_surv)\n",
    "\n",
    "# Predict with the scaled test data\n",
    "pred = knn.predict(test_sc)\n",
    "\n",
    "# Generate an accuracy score\n",
    "knn_acc = accuracy_score(test_surv, pred)\n",
    "\n",
    "print(knn_acc)"
   ]
  },
  {
   "cell_type": "markdown",
   "metadata": {},
   "source": [
    "With scaled data, KNN has got an accuracy score of 76.32% which is 10.53% greater than the previous score it generated."
   ]
  },
  {
   "cell_type": "code",
   "execution_count": 69,
   "metadata": {},
   "outputs": [
    {
     "name": "stdout",
     "output_type": "stream",
     "text": [
      "[[205  55]\n",
      " [ 44 114]]\n"
     ]
    }
   ],
   "source": [
    "print(confusion_matrix(test_surv, pred))"
   ]
  },
  {
   "cell_type": "markdown",
   "metadata": {},
   "source": [
    "The confusion matrix is also much better with a clear improvment for the true positives."
   ]
  },
  {
   "cell_type": "code",
   "execution_count": 70,
   "metadata": {},
   "outputs": [
    {
     "name": "stdout",
     "output_type": "stream",
     "text": [
      "              precision    recall  f1-score   support\n",
      "\n",
      "           0       0.82      0.79      0.81       260\n",
      "           1       0.67      0.72      0.70       158\n",
      "\n",
      "    accuracy                           0.76       418\n",
      "   macro avg       0.75      0.75      0.75       418\n",
      "weighted avg       0.77      0.76      0.76       418\n",
      "\n"
     ]
    }
   ],
   "source": [
    "print(classification_report(test_surv, pred))"
   ]
  },
  {
   "cell_type": "markdown",
   "metadata": {},
   "source": [
    "The classification report shows an improvement in prediciting positives. Previously the positive recall had a score of 52% whereas now it has a score of 72%. All scores had improved when using scaled data."
   ]
  },
  {
   "cell_type": "code",
   "execution_count": 71,
   "metadata": {},
   "outputs": [
    {
     "name": "stdout",
     "output_type": "stream",
     "text": [
      "Fitting 3 folds for each of 160 candidates, totalling 480 fits\n"
     ]
    },
    {
     "name": "stderr",
     "output_type": "stream",
     "text": [
      "[Parallel(n_jobs=-1)]: Using backend LokyBackend with 8 concurrent workers.\n",
      "[Parallel(n_jobs=-1)]: Done  34 tasks      | elapsed:    0.2s\n"
     ]
    },
    {
     "name": "stdout",
     "output_type": "stream",
     "text": [
      "{'leaf_size': 15, 'metric': 'euclidean', 'n_neighbors': 7, 'weights': 'uniform'}\n"
     ]
    },
    {
     "name": "stderr",
     "output_type": "stream",
     "text": [
      "[Parallel(n_jobs=-1)]: Done 480 out of 480 | elapsed:    2.0s finished\n"
     ]
    }
   ],
   "source": [
    "param_grid = {\n",
    "    'n_neighbors': [1, 3, 5, 7, 9],\n",
    "    'weights': ['uniform', 'distance'],\n",
    "    'metric':['euclidean', 'manhattan', 'chebyshev', 'minkowski'],\n",
    "    'leaf_size': [15, 30, 45, 60]\n",
    "}\n",
    "\n",
    "grid_search = GridSearchCV(estimator = KNeighborsClassifier(), param_grid = param_grid, \n",
    "                          cv = 3, n_jobs = -1, verbose = 2)\n",
    "\n",
    "grid_search.fit(train_sc, train_surv)\n",
    "\n",
    "print(grid_search.best_params_)"
   ]
  },
  {
   "cell_type": "markdown",
   "metadata": {},
   "source": [
    "The best parameters found for the KNN in this scenario is to use 7 neighbours, a leaf size of 15, uniform weights and Euclidean metric. The parameters were also tested with the scaled data."
   ]
  },
  {
   "cell_type": "code",
   "execution_count": 72,
   "metadata": {},
   "outputs": [
    {
     "name": "stdout",
     "output_type": "stream",
     "text": [
      "0.7799043062200957\n"
     ]
    }
   ],
   "source": [
    "# Make a new KNN model based on the best parameters found before\n",
    "knn = KNeighborsClassifier(**grid_search.best_params_)\n",
    "\n",
    "# Fit the model to the scaled data\n",
    "knn.fit(train_sc, train_surv)\n",
    "\n",
    "# Get a prediction from the scaled test data\n",
    "pred = knn.predict(test_sc)\n",
    "\n",
    "# Generate an accuracy score\n",
    "knn_acc = accuracy_score(test_surv, pred)\n",
    "\n",
    "print(knn_acc)"
   ]
  },
  {
   "cell_type": "markdown",
   "metadata": {},
   "source": [
    "The final accuracy score for KNN is 77.99% which is a massive improvement from its original score of 65.79%."
   ]
  },
  {
   "cell_type": "code",
   "execution_count": 73,
   "metadata": {},
   "outputs": [
    {
     "name": "stdout",
     "output_type": "stream",
     "text": [
      "[[212  48]\n",
      " [ 44 114]]\n"
     ]
    }
   ],
   "source": [
    "print(confusion_matrix(test_surv, pred))\n",
    "knn_confusion = confusion_matrix(test_surv, pred)"
   ]
  },
  {
   "cell_type": "markdown",
   "metadata": {},
   "source": [
    "The confusion matrix improves only with the true negatives from the previous matrix."
   ]
  },
  {
   "cell_type": "code",
   "execution_count": 74,
   "metadata": {},
   "outputs": [
    {
     "name": "stdout",
     "output_type": "stream",
     "text": [
      "              precision    recall  f1-score   support\n",
      "\n",
      "           0       0.83      0.82      0.82       260\n",
      "           1       0.70      0.72      0.71       158\n",
      "\n",
      "    accuracy                           0.78       418\n",
      "   macro avg       0.77      0.77      0.77       418\n",
      "weighted avg       0.78      0.78      0.78       418\n",
      "\n"
     ]
    }
   ],
   "source": [
    "print(classification_report(test_surv, pred))\n",
    "knn_classification = classification_report(test_surv, pred, output_dict=True)"
   ]
  },
  {
   "cell_type": "markdown",
   "metadata": {},
   "source": [
    "Like the confusion matrix, there is not much difference with the confusion report compared to the one before the parameter search."
   ]
  },
  {
   "cell_type": "markdown",
   "metadata": {},
   "source": [
    "### Support Vector Machine"
   ]
  },
  {
   "cell_type": "code",
   "execution_count": 75,
   "metadata": {},
   "outputs": [
    {
     "name": "stdout",
     "output_type": "stream",
     "text": [
      "0.6674641148325359\n"
     ]
    }
   ],
   "source": [
    "# Initialise model\n",
    "svc = SVC()\n",
    "\n",
    "# Fit the model to the training data\n",
    "svc.fit(train_df, train_surv)\n",
    "\n",
    "# Get a predicition from the testing data\n",
    "pred = svc.predict(test_df)\n",
    "\n",
    "# Generate an accuracy score\n",
    "svc_acc = accuracy_score(test_surv, pred)\n",
    "\n",
    "print(svc_acc)"
   ]
  },
  {
   "cell_type": "markdown",
   "metadata": {},
   "source": [
    "With the standard SVC model, an accuracy score of 66.75% is generated. This accuracy score does not seem to bad, but when evaluating the confusion matrix and classification report you can see that this current model is quite poor."
   ]
  },
  {
   "cell_type": "code",
   "execution_count": 76,
   "metadata": {},
   "outputs": [
    {
     "name": "stdout",
     "output_type": "stream",
     "text": [
      "[[232  28]\n",
      " [111  47]]\n"
     ]
    }
   ],
   "source": [
    "print(confusion_matrix(test_surv, pred))"
   ]
  },
  {
   "cell_type": "markdown",
   "metadata": {},
   "source": [
    "The results from this confusion matrix are quite poor. There are a lot more false positives than true positives. It is quite good at predicting negative results as there is only 28 false negatives out of 260 total negatives."
   ]
  },
  {
   "cell_type": "code",
   "execution_count": 77,
   "metadata": {},
   "outputs": [
    {
     "name": "stdout",
     "output_type": "stream",
     "text": [
      "              precision    recall  f1-score   support\n",
      "\n",
      "           0       0.68      0.89      0.77       260\n",
      "           1       0.63      0.30      0.40       158\n",
      "\n",
      "    accuracy                           0.67       418\n",
      "   macro avg       0.65      0.59      0.59       418\n",
      "weighted avg       0.66      0.67      0.63       418\n",
      "\n"
     ]
    }
   ],
   "source": [
    "print(classification_report(test_surv, pred))"
   ]
  },
  {
   "cell_type": "markdown",
   "metadata": {},
   "source": [
    "The classification report shows how awful this SVC model is at prediciting positive results. A recall score of 30% and f1-score of 40% is quite terrible.\n",
    "\n",
    "This model will now be fitted with the scaled data."
   ]
  },
  {
   "cell_type": "code",
   "execution_count": 78,
   "metadata": {},
   "outputs": [
    {
     "name": "stdout",
     "output_type": "stream",
     "text": [
      "0.777511961722488\n"
     ]
    }
   ],
   "source": [
    "# Fit model with scaled training data\n",
    "svc.fit(train_sc, train_surv)\n",
    "\n",
    "# Get a prediction using the scaled test data\n",
    "pred = svc.predict(test_sc)\n",
    "\n",
    "# Get an accuracy score from the prediction\n",
    "svc_acc = accuracy_score(test_surv, pred)\n",
    "\n",
    "print(svc_acc)"
   ]
  },
  {
   "cell_type": "markdown",
   "metadata": {},
   "source": [
    "The accuracy score using scaled data is much better than the previous accuracy score of 66.75%. The scaled accuracy score of 77.75% is 11% greater than when non scaled data had been used."
   ]
  },
  {
   "cell_type": "code",
   "execution_count": 79,
   "metadata": {},
   "outputs": [
    {
     "name": "stdout",
     "output_type": "stream",
     "text": [
      "[[211  49]\n",
      " [ 44 114]]\n"
     ]
    }
   ],
   "source": [
    "print(confusion_matrix(test_surv, pred))"
   ]
  },
  {
   "cell_type": "markdown",
   "metadata": {},
   "source": [
    "The confusion matrix also has a massive improvement for the positive predictions. Now there are more true positives instead of false positives, unlike before. The number of true negatives has actually decreased using scaled data."
   ]
  },
  {
   "cell_type": "code",
   "execution_count": 80,
   "metadata": {},
   "outputs": [
    {
     "name": "stdout",
     "output_type": "stream",
     "text": [
      "              precision    recall  f1-score   support\n",
      "\n",
      "           0       0.83      0.81      0.82       260\n",
      "           1       0.70      0.72      0.71       158\n",
      "\n",
      "    accuracy                           0.78       418\n",
      "   macro avg       0.76      0.77      0.76       418\n",
      "weighted avg       0.78      0.78      0.78       418\n",
      "\n"
     ]
    }
   ],
   "source": [
    "print(classification_report(test_surv, pred))"
   ]
  },
  {
   "cell_type": "markdown",
   "metadata": {},
   "source": [
    "The classification report also shows the dramatic improvement of this model predicting positives as the positive recall score has increase 42% and the positive f1-score has increase 31%."
   ]
  },
  {
   "cell_type": "code",
   "execution_count": 81,
   "metadata": {},
   "outputs": [
    {
     "name": "stdout",
     "output_type": "stream",
     "text": [
      "Fitting 3 folds for each of 108 candidates, totalling 324 fits\n"
     ]
    },
    {
     "name": "stderr",
     "output_type": "stream",
     "text": [
      "[Parallel(n_jobs=-1)]: Using backend LokyBackend with 8 concurrent workers.\n",
      "[Parallel(n_jobs=-1)]: Done  34 tasks      | elapsed:    0.2s\n"
     ]
    },
    {
     "name": "stdout",
     "output_type": "stream",
     "text": [
      "{'C': 100, 'gamma': 0.01, 'kernel': 'rbf'}\n"
     ]
    },
    {
     "name": "stderr",
     "output_type": "stream",
     "text": [
      "[Parallel(n_jobs=-1)]: Done 324 out of 324 | elapsed:  2.8min finished\n"
     ]
    }
   ],
   "source": [
    "param_grid = {\n",
    "    'C': [0.01, 0.1, 1, 10, 100, 1000],  \n",
    "    'gamma': [2, 1, 0.1, 0.01, 0.001, 0.0001], \n",
    "    'kernel': ['rbf', 'linear', 'sigmoid']\n",
    "}\n",
    "\n",
    "grid_search = GridSearchCV(estimator = SVC(), param_grid = param_grid, \n",
    "                          cv = 3, n_jobs = -1, verbose = 2)\n",
    "\n",
    "grid_search.fit(train_sc, train_surv)\n",
    "\n",
    "print(grid_search.best_params_)"
   ]
  },
  {
   "cell_type": "markdown",
   "metadata": {},
   "source": [
    "From the parameter search, it is shown that the best parameters to use are 0.01 for gamma, an RBF kernal and 100 for C."
   ]
  },
  {
   "cell_type": "code",
   "execution_count": 82,
   "metadata": {},
   "outputs": [
    {
     "name": "stdout",
     "output_type": "stream",
     "text": [
      "0.777511961722488\n"
     ]
    }
   ],
   "source": [
    "# Make a new SVC model based on the best parameters found before\n",
    "svc = SVC(**grid_search.best_params_)\n",
    "\n",
    "# Fit model to scaled data\n",
    "svc.fit(train_sc, train_surv)\n",
    "\n",
    "# Predict using the scaled testing data\n",
    "pred = svc.predict(test_sc)\n",
    "\n",
    "# Generate an accuracy score\n",
    "svc_acc = accuracy_score(test_surv, pred)\n",
    "\n",
    "print(svc_acc)"
   ]
  },
  {
   "cell_type": "markdown",
   "metadata": {},
   "source": [
    "This accuracy score is the same as the one before the parameter search."
   ]
  },
  {
   "cell_type": "code",
   "execution_count": 83,
   "metadata": {},
   "outputs": [
    {
     "name": "stdout",
     "output_type": "stream",
     "text": [
      "[[221  39]\n",
      " [ 54 104]]\n"
     ]
    }
   ],
   "source": [
    "print(confusion_matrix(test_surv, pred))\n",
    "svc_confusion = confusion_matrix(test_surv, pred)"
   ]
  },
  {
   "cell_type": "markdown",
   "metadata": {},
   "source": [
    "Even though the accuracy score has stayed the same, the confusion matrix has changed. The number of true negatives has increase but so has the number of false positives."
   ]
  },
  {
   "cell_type": "code",
   "execution_count": 84,
   "metadata": {},
   "outputs": [
    {
     "name": "stdout",
     "output_type": "stream",
     "text": [
      "              precision    recall  f1-score   support\n",
      "\n",
      "           0       0.80      0.85      0.83       260\n",
      "           1       0.73      0.66      0.69       158\n",
      "\n",
      "    accuracy                           0.78       418\n",
      "   macro avg       0.77      0.75      0.76       418\n",
      "weighted avg       0.77      0.78      0.78       418\n",
      "\n"
     ]
    }
   ],
   "source": [
    "print(classification_report(test_surv, pred))\n",
    "svc_classification = classification_report(test_surv, pred, output_dict=True)"
   ]
  },
  {
   "cell_type": "markdown",
   "metadata": {},
   "source": [
    "The classification report also shows that the scores for predicting positives have slightly dropped."
   ]
  },
  {
   "cell_type": "markdown",
   "metadata": {},
   "source": [
    "## Conclusion"
   ]
  },
  {
   "cell_type": "code",
   "execution_count": 85,
   "metadata": {},
   "outputs": [
    {
     "name": "stdout",
     "output_type": "stream",
     "text": [
      "RFC accuracy: 0.7799043062200957\n",
      "LR accuracy: 0.777511961722488\n",
      "KNN accuracy: 0.7799043062200957\n",
      "SVC accuracy: 0.777511961722488\n"
     ]
    }
   ],
   "source": [
    "labels = ['RFC', 'LR', 'KNN', 'SVC']\n",
    "accuracy = [rfc_acc, lr_acc, knn_acc, svc_acc]\n",
    "\n",
    "for acc, label in zip(accuracy, labels):\n",
    "    print(f'{label} accuracy: {acc}')"
   ]
  },
  {
   "cell_type": "markdown",
   "metadata": {},
   "source": [
    "Here we can see the basic accuracy results from all the models. The LR, RFC and SVC models both have the same accuracy of 77.75%. The KNN accuracy is the highest with 77.99%."
   ]
  },
  {
   "cell_type": "code",
   "execution_count": 86,
   "metadata": {},
   "outputs": [
    {
     "name": "stdout",
     "output_type": "stream",
     "text": [
      "RFC\n",
      "[223  37]\n",
      "LR\n",
      "[209  51]\n",
      "KNN\n",
      "[212  48]\n",
      "SVC\n",
      "[221  39]\n",
      "\n",
      "RFC\n",
      "[ 55 103]\n",
      "LR\n",
      "[ 42 116]\n",
      "KNN\n",
      "[ 44 114]\n",
      "SVC\n",
      "[ 54 104]\n",
      "\n"
     ]
    }
   ],
   "source": [
    "matrices = [rfc_confusion, lr_confusion, knn_confusion, svc_confusion]\n",
    "\n",
    "for i in [0, 1]:\n",
    "    for matrix, label in zip(matrices, labels):\n",
    "        print(f'{label}')\n",
    "        print(matrix[i])\n",
    "    print()"
   ]
  },
  {
   "cell_type": "markdown",
   "metadata": {},
   "source": [
    "First the negatives have been printed followed by the positives.\n",
    "\n",
    "For the negatives, the LR had the least true negatives and the RFC had the most true negatives.\n",
    "\n",
    "For the positives, the LR had the most true positives and the RFC had the least true negatives.\n",
    "\n",
    "This shows the LR was better at predicting positives where the RFC was better at predicting negatives."
   ]
  },
  {
   "cell_type": "code",
   "execution_count": 87,
   "metadata": {},
   "outputs": [
    {
     "name": "stdout",
     "output_type": "stream",
     "text": [
      "RFC\n",
      "{'precision': 0.802158273381295, 'recall': 0.8576923076923076, 'f1-score': 0.828996282527881, 'support': 260}\n",
      "LR\n",
      "{'precision': 0.8326693227091634, 'recall': 0.8038461538461539, 'f1-score': 0.8180039138943249, 'support': 260}\n",
      "KNN\n",
      "{'precision': 0.828125, 'recall': 0.8153846153846154, 'f1-score': 0.8217054263565892, 'support': 260}\n",
      "SVC\n",
      "{'precision': 0.8036363636363636, 'recall': 0.85, 'f1-score': 0.8261682242990654, 'support': 260}\n",
      "\n",
      "RFC\n",
      "{'precision': 0.7357142857142858, 'recall': 0.6518987341772152, 'f1-score': 0.691275167785235, 'support': 158}\n",
      "LR\n",
      "{'precision': 0.6946107784431138, 'recall': 0.7341772151898734, 'f1-score': 0.7138461538461539, 'support': 158}\n",
      "KNN\n",
      "{'precision': 0.7037037037037037, 'recall': 0.7215189873417721, 'f1-score': 0.7125, 'support': 158}\n",
      "SVC\n",
      "{'precision': 0.7272727272727273, 'recall': 0.6582278481012658, 'f1-score': 0.6910299003322259, 'support': 158}\n",
      "\n"
     ]
    }
   ],
   "source": [
    "reports = [rfc_classification, lr_classification, knn_classification, svc_classification]\n",
    "\n",
    "for i in [0, 1]:\n",
    "    for report, label in zip(reports, labels):\n",
    "        print(f'{label}')\n",
    "        print(report.get(f'{i}'))\n",
    "    print()"
   ]
  },
  {
   "cell_type": "markdown",
   "metadata": {},
   "source": [
    "Just like the confusion matrices, the negatives have been printed first followed by the positives.\n",
    "\n",
    "For the negatives, LR had the best precision and the worst recall. RFC had the worst precision and the best recall. The SVC score had the best F1-score.\n",
    "\n",
    "For the positives, LR had the worst precision but the best recall. This is opposite than the negatives. RFC had the best precision whereas it has the worst recall. LR had the best F1-score.\n",
    "\n",
    "The range in results does not show a better model completely overall. Certain modules outperform other models but only in particular areas."
   ]
  },
  {
   "cell_type": "code",
   "execution_count": 88,
   "metadata": {},
   "outputs": [
    {
     "data": {
      "image/png": "[encoded data removed]",
      "text/plain": [
       "<Figure size 432x288 with 1 Axes>"
      ]
     },
     "metadata": {
      "needs_background": "light"
     },
     "output_type": "display_data"
    }
   ],
   "source": [
    "plot_roc_curve(rfc, test_df, test_surv)  \n",
    "plt.show()"
   ]
  },
  {
   "cell_type": "code",
   "execution_count": 89,
   "metadata": {},
   "outputs": [
    {
     "data": {
      "text/plain": [
       "<Figure size 432x288 with 0 Axes>"
      ]
     },
     "metadata": {},
     "output_type": "display_data"
    },
    {
     "data": {
      "image/png": "[encoded data removed]",
      "text/plain": [
       "<Figure size 432x288 with 1 Axes>"
      ]
     },
     "metadata": {
      "needs_background": "light"
     },
     "output_type": "display_data"
    }
   ],
   "source": [
    "plt.clf()\n",
    "plot_roc_curve(lr, test_df, test_surv)  \n",
    "plt.show()"
   ]
  },
  {
   "cell_type": "code",
   "execution_count": 90,
   "metadata": {},
   "outputs": [
    {
     "data": {
      "text/plain": [
       "<Figure size 432x288 with 0 Axes>"
      ]
     },
     "metadata": {},
     "output_type": "display_data"
    },
    {
     "data": {
      "image/png": "[encoded data removed]",
      "text/plain": [
       "<Figure size 432x288 with 1 Axes>"
      ]
     },
     "metadata": {
      "needs_background": "light"
     },
     "output_type": "display_data"
    }
   ],
   "source": [
    "plt.clf()\n",
    "plot_roc_curve(knn, test_sc, test_surv)  \n",
    "plt.show()"
   ]
  },
  {
   "cell_type": "code",
   "execution_count": 91,
   "metadata": {},
   "outputs": [
    {
     "data": {
      "text/plain": [
       "<Figure size 432x288 with 0 Axes>"
      ]
     },
     "metadata": {},
     "output_type": "display_data"
    },
    {
     "data": {
      "image/png": "[encoded data removed]",
      "text/plain": [
       "<Figure size 432x288 with 1 Axes>"
      ]
     },
     "metadata": {
      "needs_background": "light"
     },
     "output_type": "display_data"
    }
   ],
   "source": [
    "plt.clf()\n",
    "plot_roc_curve(svc, test_sc, test_surv)  \n",
    "plt.show()"
   ]
  },
  {
   "cell_type": "markdown",
   "metadata": {},
   "source": [
    "The 4 plots above show the receiver operating characteristic (ROC) curve for each model. The ROC curve shows the trade off between sensitivity and specificity. True positive rate is along the y axis and false positive rate is along the x axis. The ideal model would be a curve which reaches the top left with a true positive rate of 1 and false positive rate of 0.\n",
    "\n",
    "AUC is the area under the ROC curve. This provides an aggregate measure of performance for each class and is used as a summary for the ROC curve. The model with the best AUC is the RFC and the SVC with scores of 81. KNN had a score of 80 and LR had the lowest score of 68."
   ]
  },
  {
   "cell_type": "code",
   "execution_count": null,
   "metadata": {},
   "outputs": [],
   "source": []
  }
 ],
 "metadata": {
  "kernelspec": {
   "display_name": "Python 3",
   "language": "python",
   "name": "python3"
  },
  "language_info": {
   "codemirror_mode": {
    "name": "ipython",
    "version": 3
   },
   "file_extension": ".py",
   "mimetype": "text/x-python",
   "name": "python",
   "nbconvert_exporter": "python",
   "pygments_lexer": "ipython3",
   "version": "3.7.9"
  }
 },
 "nbformat": 4,
 "nbformat_minor": 4
}
